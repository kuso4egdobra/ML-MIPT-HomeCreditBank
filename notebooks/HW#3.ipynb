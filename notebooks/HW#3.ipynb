{
 "cells": [
  {
   "cell_type": "markdown",
   "metadata": {
    "collapsed": true
   },
   "source": [
    "# ДЗ №3\n",
    "1. Взять три гиперпараметра для градиентного бустинга, и для каждого проварьировать один из них, фиксируя остальные. Построить графики зависимости метрики на кросс-валидации от параметра. Прокомментируйте, какие параметры и как влияют на переобучение.\n",
    "2. Сделать с помощью GridSearchCV и RandomizedSearchCV отбор наилучших параметров.\n",
    "3. Построить график feature importance. Какие признаки оказались самыми важными?"
   ]
  },
  {
   "cell_type": "code",
   "execution_count": 2,
   "metadata": {},
   "outputs": [],
   "source": [
    "import pandas as pd\n",
    "import numpy as np\n",
    "import matplotlib.pyplot as plt\n",
    "import seaborn as sns\n",
    "from sklearn.linear_model import SGDRegressor, LogisticRegression\n",
    "from sklearn.model_selection import KFold\n",
    "from sklearn.metrics import mean_squared_error, mean_squared_log_error\n",
    "from sklearn.preprocessing import StandardScaler\n",
    "\n",
    "from sklearn.model_selection import cross_validate\n",
    "from sklearn.metrics import make_scorer\n",
    "from sklearn.metrics import confusion_matrix\n",
    "from sklearn.svm import LinearSVC\n",
    "from sklearn.model_selection import cross_val_score\n",
    "from sklearn.model_selection import GridSearchCV, RandomizedSearchCV\n",
    "from sklearn.svm import SVC\n",
    "sns.set()\n",
    "\n",
    "from math import floor\n",
    "import lightgbm as lgb\n",
    "from lightgbm import LGBMClassifier\n",
    "from sklearn.ensemble import StackingClassifier\n",
    "from sklearn.ensemble import RandomForestClassifier\n",
    "from sklearn.pipeline import make_pipeline\n",
    "from sklearn.naive_bayes import GaussianNB \n",
    "from sklearn.model_selection import train_test_split"
   ]
  },
  {
   "cell_type": "code",
   "execution_count": 3,
   "metadata": {},
   "outputs": [],
   "source": [
    "def cross_validation(train, features, target, scoring_metric='roc_auc', l1=None, solver='lbfgs', penalty='l2', needPrint=True):\n",
    "    cv_results = cross_val_score(LogisticRegression(solver=solver, penalty=penalty, l1_ratio=l1), train[features], train[target].values.ravel(), cv=5, scoring=scoring_metric)\n",
    "    \n",
    "    score = np.mean(cv_results)\n",
    "    if needPrint:\n",
    "        print( f'Average = {score}')\n",
    "    \n",
    "    return score"
   ]
  },
  {
   "cell_type": "code",
   "execution_count": 4,
   "metadata": {},
   "outputs": [],
   "source": [
    "def train_and_save_model(train, test, features, target, nameFile, l1=None, solver='lbfgs', penalty='l2'):\n",
    "    model = LogisticRegression(solver=solver, penalty=penalty, l1_ratio=l1)\n",
    "    model.fit(X=train[features], y = train[target].values.ravel())\n",
    "    test_prediction = model.predict_proba(test[features])[:,1]\n",
    "    sample_submission = pd.read_csv('../data/raw/sample_submission.csv')\n",
    "    sample_submission[target] = test_prediction\n",
    "    sample_submission.to_csv(f'HW#3_models/{nameFile}.csv', index = False)"
   ]
  },
  {
   "cell_type": "code",
   "execution_count": 5,
   "metadata": {},
   "outputs": [],
   "source": [
    "def normalize(sequences):\n",
    "    return (sequences - sequences.mean()) / (sequences.max() - sequences.min())"
   ]
  },
  {
   "cell_type": "code",
   "execution_count": 6,
   "metadata": {},
   "outputs": [],
   "source": [
    "train = pd.read_csv('../data/raw/application_train.csv')\n",
    "test = pd.read_csv('../data/raw/application_test.csv')"
   ]
  },
  {
   "cell_type": "code",
   "execution_count": 7,
   "metadata": {},
   "outputs": [],
   "source": [
    "def getCV(param, train_data, num_round, nfold=5): \n",
    "    res = lgb.cv(param, train_data, num_round)\n",
    "    auc_mean = res['auc-mean']\n",
    "    auc_stdv = res['auc-stdv']\n",
    "    \n",
    "    return sum(auc_mean) / len(auc_mean)"
   ]
  },
  {
   "cell_type": "code",
   "execution_count": 8,
   "metadata": {},
   "outputs": [],
   "source": [
    "def getError(model, X_test, y_test):\n",
    "    res = model.predict(X_test)\n",
    "    for i in range(len(res)):\n",
    "        if (res[i] < 0.5):\n",
    "            res[i] = 0\n",
    "        else:\n",
    "            res[i] = 1\n",
    "        \n",
    "    y_test_copy = y_test.values.ravel()\n",
    "    num_invalid = 0\n",
    "    for i in range(len(res)):\n",
    "        if (res[i] != y_test_copy[i]):\n",
    "            num_invalid += 1\n",
    "            \n",
    "    return num_invalid / len(res)"
   ]
  },
  {
   "cell_type": "code",
   "execution_count": 50,
   "metadata": {},
   "outputs": [],
   "source": [
    "def visialize(nameX, nameY1, nameY2, X, Y1, Y2):\n",
    "    df = pd.DataFrame()\n",
    "    df[nameX] = X\n",
    "    df[nameY1] = Y1\n",
    "    df[nameY2] = Y2\n",
    "    df[nameY2] = df[nameY2] + df[nameY1].min() - df[nameY2][0]\n",
    "\n",
    "    fig, ax = plt.subplots()\n",
    "    ax.plot(df[nameX], df[nameY1])\n",
    "    ax.plot(df[nameX], df[nameY2])\n",
    "    ax.get_yaxis().set_visible(False)\n",
    "\n",
    "#     for i, txt in enumerate(df['model']):\n",
    "#         ax.annotate(txt, (df['score_cross_val'][i], df['score_kaggle'][i]))\n",
    "\n",
    "    plt.xlabel(nameX)\n",
    "    plt.legend([nameY1, nameY2])\n",
    "    plt.show()"
   ]
  },
  {
   "cell_type": "code",
   "execution_count": 10,
   "metadata": {},
   "outputs": [],
   "source": [
    "def save_model(fileName, ypred):\n",
    "    sample_submission = pd.read_csv('../data/raw/sample_submission.csv')\n",
    "    sample_submission[target] = ypred\n",
    "    sample_submission.to_csv(f'HW#3_models/{fileName}.csv', index = False)"
   ]
  },
  {
   "cell_type": "markdown",
   "metadata": {},
   "source": [
    "### Задание №1"
   ]
  },
  {
   "cell_type": "code",
   "execution_count": 11,
   "metadata": {},
   "outputs": [],
   "source": [
    "features = ['AMT_INCOME_TOTAL', 'AMT_CREDIT', 'AMT_ANNUITY']\n",
    "target = ['TARGET']"
   ]
  },
  {
   "cell_type": "code",
   "execution_count": 12,
   "metadata": {},
   "outputs": [],
   "source": [
    "median_train_amt_annuity = train['AMT_ANNUITY'].median()\n",
    "train['AMT_ANNUITY'] = train['AMT_ANNUITY'].fillna(median_train_amt_annuity)\n",
    "test['AMT_ANNUITY'] = test['AMT_ANNUITY'].fillna(median_train_amt_annuity)"
   ]
  },
  {
   "cell_type": "code",
   "execution_count": 13,
   "metadata": {},
   "outputs": [],
   "source": [
    "categorical_features = ['CODE_GENDER', 'FLAG_OWN_REALTY', 'FLAG_OWN_CAR',\n",
    "             'NAME_EDUCATION_TYPE', 'NAME_FAMILY_STATUS', 'NAME_INCOME_TYPE']\n",
    "features += categorical_features\n",
    "\n",
    "train['CODE_GENDER'] = train['CODE_GENDER'].replace( { 'M':1,'F':0, 'XNA': 0  })\n",
    "test['CODE_GENDER'] = test['CODE_GENDER'].replace( { 'M':1,'F':0, 'XNA': 0  })\n",
    "\n",
    "train['FLAG_OWN_REALTY'] = train['FLAG_OWN_REALTY'].replace( { 'Y':1,'N':0  })\n",
    "test['FLAG_OWN_REALTY'] = test['FLAG_OWN_REALTY'].replace( { 'Y':1,'N':0  })\n",
    "\n",
    "train['FLAG_OWN_CAR'] = train['FLAG_OWN_CAR'].replace( { 'Y':1,'N':0  })\n",
    "test['FLAG_OWN_CAR'] = test['FLAG_OWN_CAR'].replace( { 'Y':1,'N':0  })\n",
    "\n",
    "dict_education = {'Secondary / secondary special': 1, 'Higher education': 3,\n",
    "       'Incomplete higher': 2, 'Lower secondary': 0, 'Academic degree': 4}\n",
    "train['NAME_EDUCATION_TYPE'] = train['NAME_EDUCATION_TYPE'].replace(dict_education)\n",
    "test['NAME_EDUCATION_TYPE'] = test['NAME_EDUCATION_TYPE'].replace(dict_education)\n",
    "\n",
    "dict_family_stat = {'Single / not married': 0, 'Married': 2, 'Civil marriage': 1, 'Widow': 4,\n",
    "       'Separated': 3, 'Unknown': 0 }\n",
    "train['NAME_FAMILY_STATUS'] = train['NAME_FAMILY_STATUS'].replace(dict_family_stat)\n",
    "test['NAME_FAMILY_STATUS'] = test['NAME_FAMILY_STATUS'].replace(dict_family_stat)\n",
    "\n",
    "dict_income_type = {'Working': 3, 'State servant': 5, 'Commercial associate': 6, 'Pensioner': 7,\n",
    "       'Unemployed': 0, 'Student': 1, 'Businessman': 4, 'Maternity leave': 2}\n",
    "train['NAME_INCOME_TYPE'] = train['NAME_INCOME_TYPE'].replace(dict_income_type)\n",
    "test['NAME_INCOME_TYPE'] = test['NAME_INCOME_TYPE'].replace(dict_income_type)\n",
    "\n",
    "train[features] = normalize(train[features])\n",
    "test[features] = normalize(test[features])"
   ]
  },
  {
   "cell_type": "code",
   "execution_count": 14,
   "metadata": {},
   "outputs": [
    {
     "data": {
      "text/plain": "['AMT_INCOME_TOTAL',\n 'AMT_CREDIT',\n 'AMT_ANNUITY',\n 'CODE_GENDER',\n 'FLAG_OWN_REALTY',\n 'FLAG_OWN_CAR',\n 'NAME_EDUCATION_TYPE',\n 'NAME_FAMILY_STATUS',\n 'NAME_INCOME_TYPE']"
     },
     "execution_count": 14,
     "metadata": {},
     "output_type": "execute_result"
    }
   ],
   "source": [
    "features"
   ]
  },
  {
   "cell_type": "code",
   "execution_count": 15,
   "metadata": {},
   "outputs": [],
   "source": [
    "X_train, X_test, y_train, y_test = train_test_split(train[features], train[target], test_size=0.33, random_state=42)"
   ]
  },
  {
   "cell_type": "code",
   "execution_count": 16,
   "metadata": {},
   "outputs": [],
   "source": [
    "train_data = lgb.Dataset(\n",
    "    X_train, \n",
    "    label=y_train,\n",
    "    feature_name=features, \n",
    "    free_raw_data=False\n",
    ")"
   ]
  },
  {
   "cell_type": "code",
   "execution_count": 17,
   "metadata": {},
   "outputs": [],
   "source": [
    "num_round = 20\n",
    "default_param = {\n",
    "    'objective': 'binary', 'metric': 'auc', 'verbosity': -1,\n",
    "    'num_leaves': 31, 'num_iterations': 100, 'learning_rate': 0.1\n",
    "}"
   ]
  },
  {
   "cell_type": "code",
   "execution_count": 18,
   "metadata": {},
   "outputs": [
    {
     "name": "stderr",
     "output_type": "stream",
     "text": [
      "/Users/kusok_dobra/PycharmProjects/ML-MIPT-HomeCreditBank/venv/lib/python3.10/site-packages/lightgbm/engine.py:573: UserWarning: Found `num_iterations` in params. Will use it instead of argument\n",
      "  _log_warning(f\"Found `{alias}` in params. Will use it instead of argument\")\n",
      "/Users/kusok_dobra/PycharmProjects/ML-MIPT-HomeCreditBank/venv/lib/python3.10/site-packages/lightgbm/engine.py:177: UserWarning: Found `num_iterations` in params. Will use it instead of argument\n",
      "  _log_warning(f\"Found `{alias}` in params. Will use it instead of argument\")\n",
      "/Users/kusok_dobra/PycharmProjects/ML-MIPT-HomeCreditBank/venv/lib/python3.10/site-packages/lightgbm/engine.py:573: UserWarning: Found `num_iterations` in params. Will use it instead of argument\n",
      "  _log_warning(f\"Found `{alias}` in params. Will use it instead of argument\")\n",
      "/Users/kusok_dobra/PycharmProjects/ML-MIPT-HomeCreditBank/venv/lib/python3.10/site-packages/lightgbm/engine.py:177: UserWarning: Found `num_iterations` in params. Will use it instead of argument\n",
      "  _log_warning(f\"Found `{alias}` in params. Will use it instead of argument\")\n",
      "/Users/kusok_dobra/PycharmProjects/ML-MIPT-HomeCreditBank/venv/lib/python3.10/site-packages/lightgbm/engine.py:573: UserWarning: Found `num_iterations` in params. Will use it instead of argument\n",
      "  _log_warning(f\"Found `{alias}` in params. Will use it instead of argument\")\n",
      "/Users/kusok_dobra/PycharmProjects/ML-MIPT-HomeCreditBank/venv/lib/python3.10/site-packages/lightgbm/engine.py:177: UserWarning: Found `num_iterations` in params. Will use it instead of argument\n",
      "  _log_warning(f\"Found `{alias}` in params. Will use it instead of argument\")\n",
      "/Users/kusok_dobra/PycharmProjects/ML-MIPT-HomeCreditBank/venv/lib/python3.10/site-packages/lightgbm/engine.py:573: UserWarning: Found `num_iterations` in params. Will use it instead of argument\n",
      "  _log_warning(f\"Found `{alias}` in params. Will use it instead of argument\")\n",
      "/Users/kusok_dobra/PycharmProjects/ML-MIPT-HomeCreditBank/venv/lib/python3.10/site-packages/lightgbm/engine.py:177: UserWarning: Found `num_iterations` in params. Will use it instead of argument\n",
      "  _log_warning(f\"Found `{alias}` in params. Will use it instead of argument\")\n",
      "/Users/kusok_dobra/PycharmProjects/ML-MIPT-HomeCreditBank/venv/lib/python3.10/site-packages/lightgbm/engine.py:573: UserWarning: Found `num_iterations` in params. Will use it instead of argument\n",
      "  _log_warning(f\"Found `{alias}` in params. Will use it instead of argument\")\n",
      "/Users/kusok_dobra/PycharmProjects/ML-MIPT-HomeCreditBank/venv/lib/python3.10/site-packages/lightgbm/engine.py:177: UserWarning: Found `num_iterations` in params. Will use it instead of argument\n",
      "  _log_warning(f\"Found `{alias}` in params. Will use it instead of argument\")\n",
      "/Users/kusok_dobra/PycharmProjects/ML-MIPT-HomeCreditBank/venv/lib/python3.10/site-packages/lightgbm/engine.py:573: UserWarning: Found `num_iterations` in params. Will use it instead of argument\n",
      "  _log_warning(f\"Found `{alias}` in params. Will use it instead of argument\")\n",
      "/Users/kusok_dobra/PycharmProjects/ML-MIPT-HomeCreditBank/venv/lib/python3.10/site-packages/lightgbm/engine.py:177: UserWarning: Found `num_iterations` in params. Will use it instead of argument\n",
      "  _log_warning(f\"Found `{alias}` in params. Will use it instead of argument\")\n",
      "/Users/kusok_dobra/PycharmProjects/ML-MIPT-HomeCreditBank/venv/lib/python3.10/site-packages/lightgbm/engine.py:573: UserWarning: Found `num_iterations` in params. Will use it instead of argument\n",
      "  _log_warning(f\"Found `{alias}` in params. Will use it instead of argument\")\n",
      "/Users/kusok_dobra/PycharmProjects/ML-MIPT-HomeCreditBank/venv/lib/python3.10/site-packages/lightgbm/engine.py:177: UserWarning: Found `num_iterations` in params. Will use it instead of argument\n",
      "  _log_warning(f\"Found `{alias}` in params. Will use it instead of argument\")\n",
      "/Users/kusok_dobra/PycharmProjects/ML-MIPT-HomeCreditBank/venv/lib/python3.10/site-packages/lightgbm/engine.py:573: UserWarning: Found `num_iterations` in params. Will use it instead of argument\n",
      "  _log_warning(f\"Found `{alias}` in params. Will use it instead of argument\")\n",
      "/Users/kusok_dobra/PycharmProjects/ML-MIPT-HomeCreditBank/venv/lib/python3.10/site-packages/lightgbm/engine.py:177: UserWarning: Found `num_iterations` in params. Will use it instead of argument\n",
      "  _log_warning(f\"Found `{alias}` in params. Will use it instead of argument\")\n"
     ]
    }
   ],
   "source": [
    "param = default_param.copy()\n",
    "num_leaves = [2, 5, 10, 20, 50, 100, 200, 500]\n",
    "res_num_leaves = []\n",
    "err_num_leaves = []\n",
    "for i in num_leaves:\n",
    "    param['num_leaves'] = i\n",
    "    res_num_leaves.append(getCV(param, train_data, num_round))\n",
    "    err_num_leaves.append(getError(lgb.train(param, train_data, num_round), X_test, y_test))"
   ]
  },
  {
   "cell_type": "code",
   "execution_count": 19,
   "metadata": {},
   "outputs": [
    {
     "name": "stderr",
     "output_type": "stream",
     "text": [
      "/Users/kusok_dobra/PycharmProjects/ML-MIPT-HomeCreditBank/venv/lib/python3.10/site-packages/lightgbm/engine.py:573: UserWarning: Found `num_iterations` in params. Will use it instead of argument\n",
      "  _log_warning(f\"Found `{alias}` in params. Will use it instead of argument\")\n",
      "/Users/kusok_dobra/PycharmProjects/ML-MIPT-HomeCreditBank/venv/lib/python3.10/site-packages/lightgbm/engine.py:177: UserWarning: Found `num_iterations` in params. Will use it instead of argument\n",
      "  _log_warning(f\"Found `{alias}` in params. Will use it instead of argument\")\n",
      "/Users/kusok_dobra/PycharmProjects/ML-MIPT-HomeCreditBank/venv/lib/python3.10/site-packages/lightgbm/engine.py:573: UserWarning: Found `num_iterations` in params. Will use it instead of argument\n",
      "  _log_warning(f\"Found `{alias}` in params. Will use it instead of argument\")\n",
      "/Users/kusok_dobra/PycharmProjects/ML-MIPT-HomeCreditBank/venv/lib/python3.10/site-packages/lightgbm/engine.py:177: UserWarning: Found `num_iterations` in params. Will use it instead of argument\n",
      "  _log_warning(f\"Found `{alias}` in params. Will use it instead of argument\")\n",
      "/Users/kusok_dobra/PycharmProjects/ML-MIPT-HomeCreditBank/venv/lib/python3.10/site-packages/lightgbm/engine.py:573: UserWarning: Found `num_iterations` in params. Will use it instead of argument\n",
      "  _log_warning(f\"Found `{alias}` in params. Will use it instead of argument\")\n",
      "/Users/kusok_dobra/PycharmProjects/ML-MIPT-HomeCreditBank/venv/lib/python3.10/site-packages/lightgbm/engine.py:177: UserWarning: Found `num_iterations` in params. Will use it instead of argument\n",
      "  _log_warning(f\"Found `{alias}` in params. Will use it instead of argument\")\n",
      "/Users/kusok_dobra/PycharmProjects/ML-MIPT-HomeCreditBank/venv/lib/python3.10/site-packages/lightgbm/engine.py:573: UserWarning: Found `num_iterations` in params. Will use it instead of argument\n",
      "  _log_warning(f\"Found `{alias}` in params. Will use it instead of argument\")\n",
      "/Users/kusok_dobra/PycharmProjects/ML-MIPT-HomeCreditBank/venv/lib/python3.10/site-packages/lightgbm/engine.py:177: UserWarning: Found `num_iterations` in params. Will use it instead of argument\n",
      "  _log_warning(f\"Found `{alias}` in params. Will use it instead of argument\")\n",
      "/Users/kusok_dobra/PycharmProjects/ML-MIPT-HomeCreditBank/venv/lib/python3.10/site-packages/lightgbm/engine.py:573: UserWarning: Found `num_iterations` in params. Will use it instead of argument\n",
      "  _log_warning(f\"Found `{alias}` in params. Will use it instead of argument\")\n",
      "/Users/kusok_dobra/PycharmProjects/ML-MIPT-HomeCreditBank/venv/lib/python3.10/site-packages/lightgbm/engine.py:177: UserWarning: Found `num_iterations` in params. Will use it instead of argument\n",
      "  _log_warning(f\"Found `{alias}` in params. Will use it instead of argument\")\n",
      "/Users/kusok_dobra/PycharmProjects/ML-MIPT-HomeCreditBank/venv/lib/python3.10/site-packages/lightgbm/engine.py:573: UserWarning: Found `num_iterations` in params. Will use it instead of argument\n",
      "  _log_warning(f\"Found `{alias}` in params. Will use it instead of argument\")\n",
      "/Users/kusok_dobra/PycharmProjects/ML-MIPT-HomeCreditBank/venv/lib/python3.10/site-packages/lightgbm/engine.py:177: UserWarning: Found `num_iterations` in params. Will use it instead of argument\n",
      "  _log_warning(f\"Found `{alias}` in params. Will use it instead of argument\")\n",
      "/Users/kusok_dobra/PycharmProjects/ML-MIPT-HomeCreditBank/venv/lib/python3.10/site-packages/lightgbm/engine.py:573: UserWarning: Found `num_iterations` in params. Will use it instead of argument\n",
      "  _log_warning(f\"Found `{alias}` in params. Will use it instead of argument\")\n",
      "/Users/kusok_dobra/PycharmProjects/ML-MIPT-HomeCreditBank/venv/lib/python3.10/site-packages/lightgbm/engine.py:177: UserWarning: Found `num_iterations` in params. Will use it instead of argument\n",
      "  _log_warning(f\"Found `{alias}` in params. Will use it instead of argument\")\n"
     ]
    }
   ],
   "source": [
    "param = default_param.copy()\n",
    "num_iterations = [10, 20, 50, 100, 200, 500, 700]\n",
    "res_num_iterations = []\n",
    "err_num_iterations = []\n",
    "for i in num_iterations:\n",
    "    param['num_iterations'] = i\n",
    "    res_num_iterations.append(getCV(param, train_data, num_round))\n",
    "    err_num_iterations.append(getError(lgb.train(param, train_data, num_round), X_test, y_test))\n",
    "    "
   ]
  },
  {
   "cell_type": "code",
   "execution_count": 20,
   "metadata": {},
   "outputs": [
    {
     "name": "stderr",
     "output_type": "stream",
     "text": [
      "/Users/kusok_dobra/PycharmProjects/ML-MIPT-HomeCreditBank/venv/lib/python3.10/site-packages/lightgbm/engine.py:573: UserWarning: Found `num_iterations` in params. Will use it instead of argument\n",
      "  _log_warning(f\"Found `{alias}` in params. Will use it instead of argument\")\n",
      "/Users/kusok_dobra/PycharmProjects/ML-MIPT-HomeCreditBank/venv/lib/python3.10/site-packages/lightgbm/engine.py:177: UserWarning: Found `num_iterations` in params. Will use it instead of argument\n",
      "  _log_warning(f\"Found `{alias}` in params. Will use it instead of argument\")\n",
      "/Users/kusok_dobra/PycharmProjects/ML-MIPT-HomeCreditBank/venv/lib/python3.10/site-packages/lightgbm/engine.py:573: UserWarning: Found `num_iterations` in params. Will use it instead of argument\n",
      "  _log_warning(f\"Found `{alias}` in params. Will use it instead of argument\")\n",
      "/Users/kusok_dobra/PycharmProjects/ML-MIPT-HomeCreditBank/venv/lib/python3.10/site-packages/lightgbm/engine.py:177: UserWarning: Found `num_iterations` in params. Will use it instead of argument\n",
      "  _log_warning(f\"Found `{alias}` in params. Will use it instead of argument\")\n",
      "/Users/kusok_dobra/PycharmProjects/ML-MIPT-HomeCreditBank/venv/lib/python3.10/site-packages/lightgbm/engine.py:573: UserWarning: Found `num_iterations` in params. Will use it instead of argument\n",
      "  _log_warning(f\"Found `{alias}` in params. Will use it instead of argument\")\n",
      "/Users/kusok_dobra/PycharmProjects/ML-MIPT-HomeCreditBank/venv/lib/python3.10/site-packages/lightgbm/engine.py:177: UserWarning: Found `num_iterations` in params. Will use it instead of argument\n",
      "  _log_warning(f\"Found `{alias}` in params. Will use it instead of argument\")\n",
      "/Users/kusok_dobra/PycharmProjects/ML-MIPT-HomeCreditBank/venv/lib/python3.10/site-packages/lightgbm/engine.py:573: UserWarning: Found `num_iterations` in params. Will use it instead of argument\n",
      "  _log_warning(f\"Found `{alias}` in params. Will use it instead of argument\")\n",
      "/Users/kusok_dobra/PycharmProjects/ML-MIPT-HomeCreditBank/venv/lib/python3.10/site-packages/lightgbm/engine.py:177: UserWarning: Found `num_iterations` in params. Will use it instead of argument\n",
      "  _log_warning(f\"Found `{alias}` in params. Will use it instead of argument\")\n",
      "/Users/kusok_dobra/PycharmProjects/ML-MIPT-HomeCreditBank/venv/lib/python3.10/site-packages/lightgbm/engine.py:573: UserWarning: Found `num_iterations` in params. Will use it instead of argument\n",
      "  _log_warning(f\"Found `{alias}` in params. Will use it instead of argument\")\n",
      "/Users/kusok_dobra/PycharmProjects/ML-MIPT-HomeCreditBank/venv/lib/python3.10/site-packages/lightgbm/engine.py:177: UserWarning: Found `num_iterations` in params. Will use it instead of argument\n",
      "  _log_warning(f\"Found `{alias}` in params. Will use it instead of argument\")\n",
      "/Users/kusok_dobra/PycharmProjects/ML-MIPT-HomeCreditBank/venv/lib/python3.10/site-packages/lightgbm/engine.py:573: UserWarning: Found `num_iterations` in params. Will use it instead of argument\n",
      "  _log_warning(f\"Found `{alias}` in params. Will use it instead of argument\")\n",
      "/Users/kusok_dobra/PycharmProjects/ML-MIPT-HomeCreditBank/venv/lib/python3.10/site-packages/lightgbm/engine.py:177: UserWarning: Found `num_iterations` in params. Will use it instead of argument\n",
      "  _log_warning(f\"Found `{alias}` in params. Will use it instead of argument\")\n",
      "/Users/kusok_dobra/PycharmProjects/ML-MIPT-HomeCreditBank/venv/lib/python3.10/site-packages/lightgbm/engine.py:573: UserWarning: Found `num_iterations` in params. Will use it instead of argument\n",
      "  _log_warning(f\"Found `{alias}` in params. Will use it instead of argument\")\n",
      "/Users/kusok_dobra/PycharmProjects/ML-MIPT-HomeCreditBank/venv/lib/python3.10/site-packages/lightgbm/engine.py:177: UserWarning: Found `num_iterations` in params. Will use it instead of argument\n",
      "  _log_warning(f\"Found `{alias}` in params. Will use it instead of argument\")\n"
     ]
    }
   ],
   "source": [
    "param = default_param.copy()\n",
    "learning_rate = [0.001, 0.01, 0.1, 1, 2, 3, 4]\n",
    "res_learning_rate = []\n",
    "err_learning_rate = []\n",
    "for i in learning_rate:\n",
    "    param['learning_rate'] = i\n",
    "    res_learning_rate.append(getCV(param, train_data, num_round))\n",
    "    err_learning_rate.append(getError(lgb.train(param, train_data, num_round), X_test, y_test))"
   ]
  },
  {
   "cell_type": "code",
   "execution_count": 51,
   "metadata": {},
   "outputs": [
    {
     "data": {
      "text/plain": "<Figure size 432x288 with 1 Axes>",
      "image/png": "[encoded data removed]"
     },
     "metadata": {},
     "output_type": "display_data"
    }
   ],
   "source": [
    "visialize('num_leaves', 'cross_val_score', 'error_on_test', num_leaves, res_num_leaves, err_num_leaves)"
   ]
  },
  {
   "cell_type": "code",
   "execution_count": 52,
   "metadata": {},
   "outputs": [
    {
     "data": {
      "text/plain": "<Figure size 432x288 with 1 Axes>",
      "image/png": "[encoded data removed]"
     },
     "metadata": {},
     "output_type": "display_data"
    }
   ],
   "source": [
    "visialize('num_iterations', 'cross_val_score', 'error_on_test', num_iterations, res_num_iterations, err_num_iterations)"
   ]
  },
  {
   "cell_type": "code",
   "execution_count": 53,
   "metadata": {
    "scrolled": true
   },
   "outputs": [
    {
     "data": {
      "text/plain": "<Figure size 432x288 with 1 Axes>",
      "image/png": "[encoded data removed]"
     },
     "metadata": {},
     "output_type": "display_data"
    }
   ],
   "source": [
    "visialize('learning_rate', 'cross_val_score', 'error_on_test', learning_rate, res_learning_rate, err_learning_rate)"
   ]
  },
  {
   "cell_type": "markdown",
   "metadata": {},
   "source": [
    "Вывод: были выбраны три гиперпараметра, число листьев дерева (num_leaves), скорость обучения (learning_rate) и количество деревьев (num_iterations). Для каждого гиперпараметра найдены оптимальные значения, если значения гиперпарметра превышает оптимальное количество, то модель переучивается и точность падает. Для каждого гиперпараметра приведена пара картинок: результат score для кросс-валидации и ошибка для тестовой выборки."
   ]
  },
  {
   "cell_type": "markdown",
   "metadata": {},
   "source": [
    "### Задание №2"
   ]
  },
  {
   "cell_type": "code",
   "execution_count": 41,
   "metadata": {},
   "outputs": [
    {
     "name": "stderr",
     "output_type": "stream",
     "text": [
      "/Users/kusok_dobra/PycharmProjects/ML-MIPT/env/lib/python3.7/site-packages/lightgbm/engine.py:177: UserWarning: Found `num_iterations` in params. Will use it instead of argument\n",
      "  _log_warning(f\"Found `{alias}` in params. Will use it instead of argument\")\n",
      "/Users/kusok_dobra/PycharmProjects/ML-MIPT/env/lib/python3.7/site-packages/lightgbm/engine.py:177: UserWarning: Found `num_iterations` in params. Will use it instead of argument\n",
      "  _log_warning(f\"Found `{alias}` in params. Will use it instead of argument\")\n",
      "/Users/kusok_dobra/PycharmProjects/ML-MIPT/env/lib/python3.7/site-packages/lightgbm/engine.py:177: UserWarning: Found `num_iterations` in params. Will use it instead of argument\n",
      "  _log_warning(f\"Found `{alias}` in params. Will use it instead of argument\")\n",
      "/Users/kusok_dobra/PycharmProjects/ML-MIPT/env/lib/python3.7/site-packages/lightgbm/engine.py:177: UserWarning: Found `num_iterations` in params. Will use it instead of argument\n",
      "  _log_warning(f\"Found `{alias}` in params. Will use it instead of argument\")\n",
      "/Users/kusok_dobra/PycharmProjects/ML-MIPT/env/lib/python3.7/site-packages/lightgbm/engine.py:177: UserWarning: Found `num_iterations` in params. Will use it instead of argument\n",
      "  _log_warning(f\"Found `{alias}` in params. Will use it instead of argument\")\n",
      "/Users/kusok_dobra/PycharmProjects/ML-MIPT/env/lib/python3.7/site-packages/lightgbm/engine.py:177: UserWarning: Found `num_iterations` in params. Will use it instead of argument\n",
      "  _log_warning(f\"Found `{alias}` in params. Will use it instead of argument\")\n"
     ]
    },
    {
     "data": {
      "text/plain": [
       "{'learning_rate': 0.1, 'num_iterations': 500, 'num_leaves': 20}"
      ]
     },
     "execution_count": 41,
     "metadata": {},
     "output_type": "execute_result"
    }
   ],
   "source": [
    "parametrs = {\n",
    "    'num_leaves': num_leaves, 'num_iterations': num_iterations, 'learning_rate': \n",
    "}\n",
    "csf = LGBMClassifier(objective='binary',  metric='auc')\n",
    "grid = GridSearchCV(csf, parametrs, cv=5, scoring='roc_auc', n_jobs=1)\n",
    "grid.fit(train_data.data, train[target].values.ravel())"
   ]
  },
  {
   "cell_type": "code",
   "execution_count": 43,
   "metadata": {
    "scrolled": false
   },
   "outputs": [
    {
     "name": "stderr",
     "output_type": "stream",
     "text": [
      "/Users/kusok_dobra/PycharmProjects/ML-MIPT/env/lib/python3.7/site-packages/sklearn/model_selection/_search.py:296: UserWarning: The total space of parameters 2 is smaller than n_iter=10. Running 2 iterations. For exhaustive searches, use GridSearchCV.\n",
      "  UserWarning,\n",
      "/Users/kusok_dobra/PycharmProjects/ML-MIPT/env/lib/python3.7/site-packages/lightgbm/engine.py:177: UserWarning: Found `num_iterations` in params. Will use it instead of argument\n",
      "  _log_warning(f\"Found `{alias}` in params. Will use it instead of argument\")\n",
      "/Users/kusok_dobra/PycharmProjects/ML-MIPT/env/lib/python3.7/site-packages/lightgbm/engine.py:177: UserWarning: Found `num_iterations` in params. Will use it instead of argument\n",
      "  _log_warning(f\"Found `{alias}` in params. Will use it instead of argument\")\n",
      "/Users/kusok_dobra/PycharmProjects/ML-MIPT/env/lib/python3.7/site-packages/lightgbm/engine.py:177: UserWarning: Found `num_iterations` in params. Will use it instead of argument\n",
      "  _log_warning(f\"Found `{alias}` in params. Will use it instead of argument\")\n",
      "/Users/kusok_dobra/PycharmProjects/ML-MIPT/env/lib/python3.7/site-packages/lightgbm/engine.py:177: UserWarning: Found `num_iterations` in params. Will use it instead of argument\n",
      "  _log_warning(f\"Found `{alias}` in params. Will use it instead of argument\")\n",
      "/Users/kusok_dobra/PycharmProjects/ML-MIPT/env/lib/python3.7/site-packages/lightgbm/engine.py:177: UserWarning: Found `num_iterations` in params. Will use it instead of argument\n",
      "  _log_warning(f\"Found `{alias}` in params. Will use it instead of argument\")\n",
      "/Users/kusok_dobra/PycharmProjects/ML-MIPT/env/lib/python3.7/site-packages/lightgbm/engine.py:177: UserWarning: Found `num_iterations` in params. Will use it instead of argument\n",
      "  _log_warning(f\"Found `{alias}` in params. Will use it instead of argument\")\n",
      "/Users/kusok_dobra/PycharmProjects/ML-MIPT/env/lib/python3.7/site-packages/lightgbm/engine.py:177: UserWarning: Found `num_iterations` in params. Will use it instead of argument\n",
      "  _log_warning(f\"Found `{alias}` in params. Will use it instead of argument\")\n",
      "/Users/kusok_dobra/PycharmProjects/ML-MIPT/env/lib/python3.7/site-packages/lightgbm/engine.py:177: UserWarning: Found `num_iterations` in params. Will use it instead of argument\n",
      "  _log_warning(f\"Found `{alias}` in params. Will use it instead of argument\")\n",
      "/Users/kusok_dobra/PycharmProjects/ML-MIPT/env/lib/python3.7/site-packages/lightgbm/engine.py:177: UserWarning: Found `num_iterations` in params. Will use it instead of argument\n",
      "  _log_warning(f\"Found `{alias}` in params. Will use it instead of argument\")\n",
      "/Users/kusok_dobra/PycharmProjects/ML-MIPT/env/lib/python3.7/site-packages/lightgbm/engine.py:177: UserWarning: Found `num_iterations` in params. Will use it instead of argument\n",
      "  _log_warning(f\"Found `{alias}` in params. Will use it instead of argument\")\n",
      "/Users/kusok_dobra/PycharmProjects/ML-MIPT/env/lib/python3.7/site-packages/lightgbm/engine.py:177: UserWarning: Found `num_iterations` in params. Will use it instead of argument\n",
      "  _log_warning(f\"Found `{alias}` in params. Will use it instead of argument\")\n"
     ]
    },
    {
     "data": {
      "text/plain": [
       "{'num_leaves': 20, 'num_iterations': 500, 'learning_rate': 0.1}"
      ]
     },
     "execution_count": 43,
     "metadata": {},
     "output_type": "execute_result"
    }
   ],
   "source": [
    "parametrs = {\n",
    "   'num_leaves': num_leaves, 'num_iterations': num_iterations, 'learning_rate': learning_rate\n",
    "}\n",
    "csf = LGBMClassifier(objective='binary',  metric='auc')\n",
    "random_search = RandomizedSearchCV(csf, parametrs, cv=5, scoring='roc_auc', n_jobs=1)\n",
    "random_search.fit(train[features], train[target].values.ravel())"
   ]
  },
  {
   "cell_type": "code",
   "execution_count": 46,
   "metadata": {},
   "outputs": [
    {
     "name": "stdout",
     "output_type": "stream",
     "text": [
      "Best GridSearchCV params: {'learning_rate': 0.1, 'num_iterations': 500, 'num_leaves': 20}\n",
      "Best RandomizedSearchCV params: {'num_leaves': 20, 'num_iterations': 500, 'learning_rate': 0.1}\n"
     ]
    }
   ],
   "source": [
    "print(\"Best GridSearchCV params:\", grid.best_params_)\n",
    "print(\"Best RandomizedSearchCV params:\", random_search.best_params_)"
   ]
  },
  {
   "cell_type": "markdown",
   "metadata": {},
   "source": [
    "### Задание №3"
   ]
  },
  {
   "cell_type": "code",
   "execution_count": 24,
   "metadata": {},
   "outputs": [],
   "source": [
    "bst = lgb.train(default_param, train_data, num_round)"
   ]
  },
  {
   "cell_type": "code",
   "execution_count": 190,
   "metadata": {
    "scrolled": true
   },
   "outputs": [
    {
     "data": {
      "image/png": "[encoded data removed]",
      "text/plain": [
       "<Figure size 432x288 with 1 Axes>"
      ]
     },
     "metadata": {},
     "output_type": "display_data"
    }
   ],
   "source": [
    "feature_imp = pd.DataFrame({'Value':bst.feature_importance(),'Feature':features})\n",
    "plt.figure()\n",
    "# sns.set(font_scale = 1)\n",
    "sns.barplot(x=\"Value\", y=\"Feature\", data=feature_imp.sort_values(by=\"Value\", \n",
    "                                                    ascending=False)[0:len(features)])\n",
    "plt.title('LightGBM Features')\n",
    "plt.tight_layout()\n",
    "plt.show()"
   ]
  },
  {
   "cell_type": "markdown",
   "metadata": {},
   "source": [
    "### Cтекинг\n",
    "Используем реализацию https://scikit-learn.org/stable/modules/generated/sklearn.ensemble.StackingClassifier.html\n",
    "1. Построить стекинг для 5 различных моделей по вашему выбору с разными параметрами. Можете взять любые, например 2 бустинга, 2 случайных леса, лог рег. Записать скор на тестовой выборке.\n",
    "2. Теперь уберем из ансамбля наилучшую модель и снова постройте стекинг. Как изменился результат? Прокомментируйте."
   ]
  },
  {
   "cell_type": "markdown",
   "metadata": {},
   "source": [
    "### Задание 1"
   ]
  },
  {
   "cell_type": "code",
   "execution_count": 48,
   "metadata": {},
   "outputs": [
    {
     "name": "stderr",
     "output_type": "stream",
     "text": [
      "/Users/kusok_dobra/PycharmProjects/ML-MIPT/env/lib/python3.7/site-packages/sklearn/preprocessing/_label.py:98: DataConversionWarning: A column-vector y was passed when a 1d array was expected. Please change the shape of y to (n_samples, ), for example using ravel().\n",
      "  y = column_or_1d(y, warn=True)\n",
      "/Users/kusok_dobra/PycharmProjects/ML-MIPT/env/lib/python3.7/site-packages/sklearn/preprocessing/_label.py:133: DataConversionWarning: A column-vector y was passed when a 1d array was expected. Please change the shape of y to (n_samples, ), for example using ravel().\n",
      "  y = column_or_1d(y, warn=True)\n"
     ]
    },
    {
     "data": {
      "text/plain": [
       "StackingClassifier(estimators=[('rf1',\n",
       "                                RandomForestClassifier(n_estimators=10,\n",
       "                                                       random_state=42)),\n",
       "                               ('rf2',\n",
       "                                RandomForestClassifier(n_estimators=30,\n",
       "                                                       random_state=42)),\n",
       "                               ('logreg', LogisticRegression()),\n",
       "                               ('naive bayes', GaussianNB()),\n",
       "                               ('boost',\n",
       "                                Pipeline(steps=[('standardscaler',\n",
       "                                                 StandardScaler()),\n",
       "                                                ('gaussiannb',\n",
       "                                                 GaussianNB())]))],\n",
       "                   final_estimator=LogisticRegression())"
      ]
     },
     "execution_count": 48,
     "metadata": {},
     "output_type": "execute_result"
    }
   ],
   "source": [
    "estimators = [\n",
    "     ('rf1', RandomForestClassifier(n_estimators=10, random_state=42)),\n",
    "     ('rf2', RandomForestClassifier(n_estimators=30, random_state=42)),\n",
    "     ('logreg', LogisticRegression()),\n",
    "     ('naive bayes', GaussianNB()),\n",
    "     ('boost', \n",
    "      make_pipeline(\n",
    "         StandardScaler(),\n",
    "         GaussianNB()\n",
    "      )\n",
    "     ),\n",
    "     \n",
    "]\n",
    "clf = StackingClassifier(\n",
    "    estimators=estimators, final_estimator=LogisticRegression()\n",
    ")\n",
    "clf.fit(train[features], train[target])"
   ]
  },
  {
   "cell_type": "code",
   "execution_count": 49,
   "metadata": {},
   "outputs": [],
   "source": [
    "ypred_clf = clf.predict_proba(test[features])[:,1]\n",
    "sample_submission = pd.read_csv('../data/raw/sample_submission.csv')\n",
    "sample_submission[target] = ypred_clf\n",
    "sample_submission.to_csv(f'HW#3_models/model2.csv', index = False)"
   ]
  },
  {
   "cell_type": "markdown",
   "metadata": {},
   "source": [
    "### Score на тестовой выборке = 0.60690"
   ]
  },
  {
   "cell_type": "markdown",
   "metadata": {},
   "source": [
    "### Задание 2\n",
    "Поиск лучшей модели"
   ]
  },
  {
   "cell_type": "code",
   "execution_count": 50,
   "metadata": {},
   "outputs": [],
   "source": [
    "ypred = clf.estimators_[0].predict_proba(test[features])[:,1]\n",
    "save_model('model2_0', ypred)"
   ]
  },
  {
   "cell_type": "markdown",
   "metadata": {},
   "source": [
    "Score: 0.50844"
   ]
  },
  {
   "cell_type": "code",
   "execution_count": 51,
   "metadata": {},
   "outputs": [],
   "source": [
    "ypred = clf.estimators_[1].predict_proba(test[features])[:,1]\n",
    "save_model('model2_1', ypred)"
   ]
  },
  {
   "cell_type": "markdown",
   "metadata": {},
   "source": [
    "Score: 0.52641"
   ]
  },
  {
   "cell_type": "code",
   "execution_count": 52,
   "metadata": {},
   "outputs": [],
   "source": [
    "ypred = clf.estimators_[2].predict_proba(test[features])[:,1]\n",
    "save_model('model2_2', ypred)"
   ]
  },
  {
   "cell_type": "markdown",
   "metadata": {},
   "source": [
    "Score: 0.61634"
   ]
  },
  {
   "cell_type": "code",
   "execution_count": 53,
   "metadata": {},
   "outputs": [],
   "source": [
    "ypred = clf.estimators_[3].predict_proba(test[features])[:,1]\n",
    "save_model('model2_3', ypred)"
   ]
  },
  {
   "cell_type": "markdown",
   "metadata": {},
   "source": [
    "Score: 0.50366"
   ]
  },
  {
   "cell_type": "code",
   "execution_count": 54,
   "metadata": {},
   "outputs": [],
   "source": [
    "ypred = clf.estimators_[4].predict_proba(test[features])[:,1]\n",
    "save_model('model2_4', ypred)"
   ]
  },
  {
   "cell_type": "markdown",
   "metadata": {},
   "source": [
    "Score: 0.50361"
   ]
  },
  {
   "cell_type": "markdown",
   "metadata": {},
   "source": [
    "Самая лучшая модель - логистическая регрессия, выкиним ее."
   ]
  },
  {
   "cell_type": "code",
   "execution_count": 55,
   "metadata": {},
   "outputs": [
    {
     "name": "stderr",
     "output_type": "stream",
     "text": [
      "/Users/kusok_dobra/PycharmProjects/ML-MIPT/env/lib/python3.7/site-packages/sklearn/preprocessing/_label.py:98: DataConversionWarning: A column-vector y was passed when a 1d array was expected. Please change the shape of y to (n_samples, ), for example using ravel().\n",
      "  y = column_or_1d(y, warn=True)\n",
      "/Users/kusok_dobra/PycharmProjects/ML-MIPT/env/lib/python3.7/site-packages/sklearn/preprocessing/_label.py:133: DataConversionWarning: A column-vector y was passed when a 1d array was expected. Please change the shape of y to (n_samples, ), for example using ravel().\n",
      "  y = column_or_1d(y, warn=True)\n"
     ]
    },
    {
     "data": {
      "text/plain": [
       "StackingClassifier(estimators=[('rf1',\n",
       "                                RandomForestClassifier(n_estimators=10,\n",
       "                                                       random_state=42)),\n",
       "                               ('rf2',\n",
       "                                RandomForestClassifier(n_estimators=30,\n",
       "                                                       random_state=42)),\n",
       "                               ('naive bayes', GaussianNB()),\n",
       "                               ('boost',\n",
       "                                Pipeline(steps=[('standardscaler',\n",
       "                                                 StandardScaler()),\n",
       "                                                ('gaussiannb',\n",
       "                                                 GaussianNB())]))],\n",
       "                   final_estimator=LogisticRegression())"
      ]
     },
     "execution_count": 55,
     "metadata": {},
     "output_type": "execute_result"
    }
   ],
   "source": [
    "estimators = [\n",
    "     ('rf1', RandomForestClassifier(n_estimators=10, random_state=42)),\n",
    "     ('rf2', RandomForestClassifier(n_estimators=30, random_state=42)),\n",
    "     ('naive bayes', GaussianNB()),\n",
    "     ('boost', \n",
    "      make_pipeline(\n",
    "         StandardScaler(),\n",
    "         GaussianNB()\n",
    "      )\n",
    "     ),\n",
    "]\n",
    "clf = StackingClassifier(\n",
    "    estimators=estimators, final_estimator=LogisticRegression()\n",
    ")\n",
    "clf.fit(train[features], train[target])"
   ]
  },
  {
   "cell_type": "code",
   "execution_count": 56,
   "metadata": {},
   "outputs": [],
   "source": [
    "ypred_clf = clf.predict_proba(test[features])[:,1]\n",
    "sample_submission = pd.read_csv('../data/raw/sample_submission.csv')\n",
    "sample_submission[target] = ypred_clf\n",
    "sample_submission.to_csv(f'HW#3_models/model3.csv', index = False)"
   ]
  },
  {
   "cell_type": "markdown",
   "metadata": {},
   "source": [
    "Score: 0.52338"
   ]
  },
  {
   "cell_type": "markdown",
   "metadata": {},
   "source": [
    "Убрав лучшую модель, стекинг стал хуже предсказывать результат, что очевидно, так как стекинг  основывает свой результат на мета-факторах, предсказания которых ниже, чем лучшей модели."
   ]
  }
 ],
 "metadata": {
  "kernelspec": {
   "display_name": "Python 3 (ipykernel)",
   "language": "python",
   "name": "python3"
  },
  "language_info": {
   "codemirror_mode": {
    "name": "ipython",
    "version": 3
   },
   "file_extension": ".py",
   "mimetype": "text/x-python",
   "name": "python",
   "nbconvert_exporter": "python",
   "pygments_lexer": "ipython3",
   "version": "3.10.0"
  }
 },
 "nbformat": 4,
 "nbformat_minor": 1
}