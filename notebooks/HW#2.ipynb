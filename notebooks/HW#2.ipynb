{
 "cells": [
  {
   "cell_type": "markdown",
   "metadata": {},
   "source": [
    "# ДЗ №2\n",
    "\n",
    "Сделать логистическую регрессию на известных признаках, получить как можно лучший `score` (использовать регулиризацию, подбор гиперпараметров)"
   ]
  },
  {
   "cell_type": "code",
   "execution_count": 54,
   "metadata": {},
   "outputs": [],
   "source": [
    "import pandas as pd\n",
    "import numpy as np\n",
    "import matplotlib.pyplot as plt\n",
    "import seaborn as sns\n",
    "from sklearn.linear_model import SGDRegressor, LogisticRegression\n",
    "from sklearn.model_selection import KFold\n",
    "from sklearn.metrics import mean_squared_error, mean_squared_log_error\n",
    "from sklearn.preprocessing import StandardScaler\n",
    "\n",
    "from sklearn.model_selection import cross_validate\n",
    "from sklearn.metrics import make_scorer\n",
    "from sklearn.metrics import confusion_matrix\n",
    "from sklearn.svm import LinearSVC\n",
    "from sklearn.model_selection import cross_val_score\n",
    "sns.set()\n",
    "\n",
    "from math import floor"
   ]
  },
  {
   "cell_type": "code",
   "execution_count": 55,
   "metadata": {},
   "outputs": [],
   "source": [
    "def cross_validation(train, features, target, scoring_metric='roc_auc', l1=None, solver='lbfgs', penalty='l2', needPrint=True):\n",
    "    cv_results = cross_val_score(LogisticRegression(solver=solver, penalty=penalty, l1_ratio=l1), train[features], train[target].values.ravel(), cv=5, scoring=scoring_metric)\n",
    "    \n",
    "    score = np.mean(cv_results)\n",
    "    if needPrint:\n",
    "        print( f'Average = {score}')\n",
    "    \n",
    "    return score"
   ]
  },
  {
   "cell_type": "code",
   "execution_count": 56,
   "metadata": {},
   "outputs": [],
   "source": [
    "def train_and_save_model(train, test, features, target, nameFile, l1=None, solver='lbfgs', penalty='l2'):\n",
    "    model = LogisticRegression(solver=solver, penalty=penalty, l1_ratio=l1)\n",
    "    model.fit(X=train[features], y = train[target].values.ravel())\n",
    "    test_prediction = model.predict_proba(test[features])[:,1]\n",
    "    sample_submission = pd.read_csv('../data/raw/sample_submission.csv')\n",
    "    sample_submission[target] = test_prediction\n",
    "    sample_submission.to_csv(f'HW#2_models/{nameFile}.csv', index = False)"
   ]
  },
  {
   "cell_type": "code",
   "execution_count": 57,
   "metadata": {},
   "outputs": [],
   "source": [
    "def normalize(sequences):\n",
    "    return (sequences - sequences.mean()) / (sequences.max() - sequences.min())"
   ]
  },
  {
   "cell_type": "code",
   "execution_count": 58,
   "metadata": {},
   "outputs": [],
   "source": [
    "train = pd.read_csv('../data/raw/application_train.csv')\n",
    "test = pd.read_csv('../data/raw/application_test.csv')"
   ]
  },
  {
   "cell_type": "markdown",
   "metadata": {},
   "source": [
    "### Модель 0"
   ]
  },
  {
   "cell_type": "code",
   "execution_count": 59,
   "metadata": {},
   "outputs": [],
   "source": [
    "features = ['AMT_INCOME_TOTAL', 'AMT_CREDIT', 'AMT_ANNUITY']\n",
    "target = ['TARGET']"
   ]
  },
  {
   "cell_type": "code",
   "execution_count": 60,
   "metadata": {},
   "outputs": [],
   "source": [
    "train['AMT_ANNUITY'] = train['AMT_ANNUITY'].fillna(train['AMT_ANNUITY'].median())\n",
    "test['AMT_ANNUITY'] = test['AMT_ANNUITY'].fillna(train['AMT_ANNUITY'].median())"
   ]
  },
  {
   "cell_type": "code",
   "execution_count": 61,
   "metadata": {},
   "outputs": [],
   "source": [
    "train[features] /= 1000\n",
    "test[features] /= 1000"
   ]
  },
  {
   "cell_type": "code",
   "execution_count": 62,
   "metadata": {},
   "outputs": [
    {
     "name": "stdout",
     "output_type": "stream",
     "text": [
      "Average = 0.5327320455583101\n"
     ]
    }
   ],
   "source": [
    "score_cross_val0 = cross_validation(train, features, target)"
   ]
  },
  {
   "cell_type": "code",
   "execution_count": 63,
   "metadata": {},
   "outputs": [],
   "source": [
    "train_and_save_model(train, test, features, target, 'model_0')"
   ]
  },
  {
   "cell_type": "markdown",
   "metadata": {},
   "source": [
    "### Модель 1\n",
    "Нормализуем данные"
   ]
  },
  {
   "cell_type": "code",
   "execution_count": 64,
   "metadata": {},
   "outputs": [],
   "source": [
    "train1 = train.copy()\n",
    "test1 = test.copy()"
   ]
  },
  {
   "cell_type": "code",
   "execution_count": 65,
   "metadata": {},
   "outputs": [],
   "source": [
    "train1[features] = normalize(train1[features])\n",
    "test1[features] = normalize(test1[features])"
   ]
  },
  {
   "cell_type": "code",
   "execution_count": 66,
   "metadata": {},
   "outputs": [
    {
     "name": "stdout",
     "output_type": "stream",
     "text": [
      "Average = 0.5301784448570589\n"
     ]
    }
   ],
   "source": [
    "score_cross_val1 = cross_validation(train1, features, target)"
   ]
  },
  {
   "cell_type": "code",
   "execution_count": 67,
   "metadata": {},
   "outputs": [],
   "source": [
    "train_and_save_model(train1, test1, features, target, 'model_1')"
   ]
  },
  {
   "cell_type": "markdown",
   "metadata": {},
   "source": [
    "### Модель 2\n",
    "Добавим категориальные признаки"
   ]
  },
  {
   "cell_type": "code",
   "execution_count": 68,
   "metadata": {},
   "outputs": [],
   "source": [
    "features += ['CODE_GENDER', 'FLAG_OWN_REALTY', 'FLAG_OWN_CAR',\n",
    "             'NAME_EDUCATION_TYPE', 'NAME_FAMILY_STATUS', 'NAME_INCOME_TYPE']"
   ]
  },
  {
   "cell_type": "code",
   "execution_count": 69,
   "metadata": {},
   "outputs": [],
   "source": [
    "train['CODE_GENDER'] = train['CODE_GENDER'].replace( { 'M':1,'F':0, 'XNA': 0  })\n",
    "test['CODE_GENDER'] = test['CODE_GENDER'].replace( { 'M':1,'F':0, 'XNA': 0  })"
   ]
  },
  {
   "cell_type": "code",
   "execution_count": 70,
   "metadata": {},
   "outputs": [],
   "source": [
    "train['FLAG_OWN_REALTY'] = train['FLAG_OWN_REALTY'].replace( { 'Y':1,'N':0  })\n",
    "test['FLAG_OWN_REALTY'] = test['FLAG_OWN_REALTY'].replace( { 'Y':1,'N':0  })"
   ]
  },
  {
   "cell_type": "code",
   "execution_count": 71,
   "metadata": {},
   "outputs": [],
   "source": [
    "train['FLAG_OWN_CAR'] = train['FLAG_OWN_CAR'].replace( { 'Y':1,'N':0  })\n",
    "test['FLAG_OWN_CAR'] = test['FLAG_OWN_CAR'].replace( { 'Y':1,'N':0  })"
   ]
  },
  {
   "cell_type": "code",
   "execution_count": 72,
   "metadata": {},
   "outputs": [],
   "source": [
    "dict_education = {'Secondary / secondary special': 1, 'Higher education': 3,\n",
    "       'Incomplete higher': 2, 'Lower secondary': 0, 'Academic degree': 4}\n",
    "train['NAME_EDUCATION_TYPE'] = train['NAME_EDUCATION_TYPE'].replace(dict_education)\n",
    "test['NAME_EDUCATION_TYPE'] = test['NAME_EDUCATION_TYPE'].replace(dict_education)"
   ]
  },
  {
   "cell_type": "code",
   "execution_count": 73,
   "metadata": {},
   "outputs": [],
   "source": [
    "dict_family_stat = {'Single / not married': 0, 'Married': 2, 'Civil marriage': 1, 'Widow': 4,\n",
    "       'Separated': 3, 'Unknown': 0 }\n",
    "train['NAME_FAMILY_STATUS'] = train['NAME_FAMILY_STATUS'].replace(dict_family_stat)\n",
    "test['NAME_FAMILY_STATUS'] = test['NAME_FAMILY_STATUS'].replace(dict_family_stat)"
   ]
  },
  {
   "cell_type": "code",
   "execution_count": 74,
   "metadata": {},
   "outputs": [],
   "source": [
    "dict_income_type = {'Working': 3, 'State servant': 5, 'Commercial associate': 6, 'Pensioner': 7,\n",
    "       'Unemployed': 0, 'Student': 1, 'Businessman': 4, 'Maternity leave': 2}\n",
    "train['NAME_INCOME_TYPE'] = train['NAME_INCOME_TYPE'].replace(dict_income_type)\n",
    "test['NAME_INCOME_TYPE'] = test['NAME_INCOME_TYPE'].replace(dict_income_type)"
   ]
  },
  {
   "cell_type": "code",
   "execution_count": 75,
   "metadata": {},
   "outputs": [],
   "source": [
    "train[features] = normalize(train[features])\n",
    "test[features] = normalize(test[features])"
   ]
  },
  {
   "cell_type": "code",
   "execution_count": 76,
   "metadata": {},
   "outputs": [
    {
     "name": "stdout",
     "output_type": "stream",
     "text": [
      "Average = 0.6128664921664913\n"
     ]
    }
   ],
   "source": [
    "score_cross_val2 = cross_validation(train, features, target)"
   ]
  },
  {
   "cell_type": "code",
   "execution_count": 77,
   "metadata": {},
   "outputs": [],
   "source": [
    "train_and_save_model(train, test, features, target, 'model_2')"
   ]
  },
  {
   "cell_type": "markdown",
   "metadata": {},
   "source": [
    "### Модель 3\n",
    "Применим формулы для категориальных признаков"
   ]
  },
  {
   "cell_type": "markdown",
   "metadata": {},
   "source": [
    "#HELP почему-то функция `proc_categories` выдает nan значения"
   ]
  },
  {
   "cell_type": "code",
   "execution_count": 78,
   "metadata": {},
   "outputs": [],
   "source": [
    "def proc_categories(train, test, column_name):\n",
    "    K = train.groupby([column_name]).size()\n",
    "    mean_y = train.groupby([column_name])[column_name].mean()\n",
    "    global_mean_y = train[column_name].mean()\n",
    "    train[column_name] = (mean_y * K + global_mean_y * 10) / (K + 10)\n",
    "    test[column_name] = (mean_y * K + global_mean_y * 10) / (K + 10)\n",
    "    \n",
    "    return train, test"
   ]
  },
  {
   "cell_type": "code",
   "execution_count": 79,
   "metadata": {},
   "outputs": [],
   "source": [
    "# train, test = proc_categories(train, test, 'NAME_EDUCATION_TYPE')\n",
    "# train, test = proc_categories(train, test, 'NAME_INCOME_TYPE')"
   ]
  },
  {
   "cell_type": "code",
   "execution_count": 80,
   "metadata": {},
   "outputs": [],
   "source": [
    "# score_cross_val3 = cross_validation(train, features, target)"
   ]
  },
  {
   "cell_type": "code",
   "execution_count": 81,
   "metadata": {},
   "outputs": [],
   "source": [
    "# train_and_save_model(train, test, features, target, 'model_3')"
   ]
  },
  {
   "cell_type": "markdown",
   "metadata": {},
   "source": [
    "### Модель 4\n",
    "добавим datetime признаки"
   ]
  },
  {
   "cell_type": "code",
   "execution_count": 82,
   "metadata": {},
   "outputs": [],
   "source": [
    "features += ['DAYS_REGISTRATION', 'DAYS_ID_PUBLISH', 'DAYS_BIRTH']"
   ]
  },
  {
   "cell_type": "code",
   "execution_count": 83,
   "metadata": {},
   "outputs": [],
   "source": [
    "train['DAYS_REGISTRATION'] = train['DAYS_REGISTRATION'] / 365\n",
    "train['DAYS_ID_PUBLISH'] = train['DAYS_ID_PUBLISH'] / 365\n",
    "train['DAYS_BIRTH'] = train['DAYS_REGISTRATION'] / 365"
   ]
  },
  {
   "cell_type": "code",
   "execution_count": 84,
   "metadata": {},
   "outputs": [],
   "source": [
    "train[features] = normalize(train[features])\n",
    "test[features] = normalize(test[features])"
   ]
  },
  {
   "cell_type": "code",
   "execution_count": 85,
   "metadata": {},
   "outputs": [
    {
     "name": "stdout",
     "output_type": "stream",
     "text": [
      "Average = 0.6271887889701484\n"
     ]
    }
   ],
   "source": [
    "score_cross_val4 = cross_validation(train, features, target)"
   ]
  },
  {
   "cell_type": "code",
   "execution_count": 86,
   "metadata": {},
   "outputs": [],
   "source": [
    "train_and_save_model(train, test, features, target, 'model_4')"
   ]
  },
  {
   "cell_type": "markdown",
   "metadata": {},
   "source": [
    "### Модель 5\n",
    "Попробуем подобрать оптимальные гиперпараметры для нашей модели"
   ]
  },
  {
   "cell_type": "code",
   "execution_count": 87,
   "metadata": {},
   "outputs": [
    {
     "data": {
      "text/plain": [
       "['AMT_INCOME_TOTAL',\n",
       " 'AMT_CREDIT',\n",
       " 'AMT_ANNUITY',\n",
       " 'CODE_GENDER',\n",
       " 'FLAG_OWN_REALTY',\n",
       " 'FLAG_OWN_CAR',\n",
       " 'NAME_EDUCATION_TYPE',\n",
       " 'NAME_FAMILY_STATUS',\n",
       " 'NAME_INCOME_TYPE',\n",
       " 'DAYS_REGISTRATION',\n",
       " 'DAYS_ID_PUBLISH',\n",
       " 'DAYS_BIRTH']"
      ]
     },
     "execution_count": 87,
     "metadata": {},
     "output_type": "execute_result"
    }
   ],
   "source": [
    "features"
   ]
  },
  {
   "cell_type": "code",
   "execution_count": 88,
   "metadata": {},
   "outputs": [],
   "source": [
    "train[features] = normalize(train[features])\n",
    "test[features] = normalize(test[features])"
   ]
  },
  {
   "cell_type": "code",
   "execution_count": 89,
   "metadata": {},
   "outputs": [
    {
     "name": "stdout",
     "output_type": "stream",
     "text": [
      "Score = 0.6271704234141151, l1 = 0.0\n",
      "Score = 0.6271722302684163, l1 = 0.1\n",
      "Score = 0.6271744460870239, l1 = 0.2\n",
      "Score = 0.6271773665492341, l1 = 0.30000000000000004\n",
      "Score = 0.6271796364953458, l1 = 0.4\n",
      "Score = 0.6271829609067049, l1 = 0.5\n",
      "Score = 0.6271879724567335, l1 = 0.6000000000000001\n",
      "Score = 0.627191489236224, l1 = 0.7000000000000001\n",
      "Score = 0.627191138686275, l1 = 0.8\n",
      "Score = 0.6271913930382016, l1 = 0.9\n",
      "\n",
      "Max Score = 0.627191489236224, l1 = 0.7000000000000001\n"
     ]
    }
   ],
   "source": [
    "l1_best = 0.1\n",
    "max_score = 0.0\n",
    "for i in range (10):\n",
    "    res = cross_validation(train, features, target, l1=0.1 * i, solver='saga', penalty='elasticnet', needPrint=False)\n",
    "    print(f'Score = {res}, l1 = {0.1 * i}')\n",
    "    if (res > max_score):\n",
    "        max_score = res\n",
    "        l1_best = 0.1 * i\n",
    "        \n",
    "print(f'\\nMax Score = {max_score}, l1 = {l1_best}')\n",
    "score_cross_val5 = max_score"
   ]
  },
  {
   "cell_type": "code",
   "execution_count": 90,
   "metadata": {},
   "outputs": [],
   "source": [
    "train_and_save_model(train, test, features, target, 'model_5', l1=l1_best, solver='saga', penalty='elasticnet')"
   ]
  },
  {
   "cell_type": "markdown",
   "metadata": {},
   "source": [
    "### Итоги\n",
    "Модели:\n",
    "\n",
    "0. Score(private) - 0.53786, Score(public) - 0.55338, cv - 0.53273\n",
    "1. Score(private) - 0.51821, Score(public) - 0.53444, cv - 0.53017\n",
    "2. Score(private) - 0.61634, Score(public) - 0.61430, cv - 0.61286\n",
    "3. -\n",
    "4. Score(private) - 0.63189, Score(public) - 0.63142, cv - 0.62718\n",
    "5. Score(private) - 0.63189, Score(public) - 0.63143, cv - 0.62719"
   ]
  },
  {
   "cell_type": "code",
   "execution_count": 91,
   "metadata": {
    "scrolled": true
   },
   "outputs": [
    {
     "name": "stderr",
     "output_type": "stream",
     "text": [
      "No handles with labels found to put in legend.\n"
     ]
    },
    {
     "data": {
      "image/png": "[encoded data removed]",
      "text/plain": [
       "<Figure size 432x288 with 1 Axes>"
      ]
     },
     "metadata": {},
     "output_type": "display_data"
    }
   ],
   "source": [
    "df = pd.DataFrame()\n",
    "df['score_cross_val'] = [score_cross_val0, score_cross_val1, score_cross_val2, score_cross_val4, score_cross_val5]\n",
    "df['score_kaggle'] = [0.53786, 0.51821, 0.61634, 0.63189, 0.63189]\n",
    "df['model'] = ['model0', 'model1', 'model2', 'model4', 'model5']\n",
    "\n",
    "fig, ax = plt.subplots()\n",
    "ax.scatter(df['score_cross_val'], df['score_kaggle'])\n",
    "\n",
    "for i, txt in enumerate(df['model']):\n",
    "    ax.annotate(txt, (df['score_cross_val'][i], df['score_kaggle'][i]))\n",
    "\n",
    "plt.xlabel('score_cross')\n",
    "plt.ylabel('score_kaggle')\n",
    "plt.legend()\n",
    "plt.show()"
   ]
  },
  {
   "cell_type": "markdown",
   "metadata": {},
   "source": [
    "### Вывод\n",
    "Самой лучшей моделью оказалась модель №5 с нормированными параметрами и настроенными гиперпараметрами. Cross-validation была правильно настроена, так как показывает схожие результаты с kaggle. С помощью регуляризации и изменения гиперпараметров незначительно улучшился score на public данных kaggle. "
   ]
  }
 ],
 "metadata": {
  "kernelspec": {
   "display_name": "Python 3 (ipykernel)",
   "language": "python",
   "name": "python3"
  },
  "language_info": {
   "codemirror_mode": {
    "name": "ipython",
    "version": 3
   },
   "file_extension": ".py",
   "mimetype": "text/x-python",
   "name": "python",
   "nbconvert_exporter": "python",
   "pygments_lexer": "ipython3",
   "version": "3.7.0"
  }
 },
 "nbformat": 4,
 "nbformat_minor": 1
}
