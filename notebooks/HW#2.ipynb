{
 "cells": [
  {
   "cell_type": "markdown",
   "metadata": {},
   "source": [
    "# ДЗ №2\n",
    "\n",
    "Сделать логистическую регрессию на известных признаках, получить как можно лучший `score` (использовать регулиризацию, подбор гиперпараметров)"
   ]
  },
  {
   "cell_type": "code",
   "execution_count": 1,
   "metadata": {},
   "outputs": [],
   "source": [
    "import pandas as pd\n",
    "import numpy as np\n",
    "import matplotlib.pyplot as plt\n",
    "import seaborn as sns\n",
    "from sklearn.linear_model import SGDRegressor, LogisticRegression\n",
    "from sklearn.model_selection import KFold\n",
    "from sklearn.metrics import mean_squared_error, mean_squared_log_error\n",
    "from sklearn.preprocessing import StandardScaler\n",
    "\n",
    "from sklearn.model_selection import cross_validate\n",
    "from sklearn.metrics import make_scorer\n",
    "from sklearn.metrics import confusion_matrix\n",
    "from sklearn.svm import LinearSVC\n",
    "from sklearn.model_selection import cross_val_score\n",
    "sns.set()\n",
    "\n",
    "from math import floor"
   ]
  },
  {
   "cell_type": "code",
   "execution_count": 2,
   "metadata": {},
   "outputs": [],
   "source": [
    "def cross_validation(train, features, target, scoring_metric='roc_auc', l1=None, solver='lbfgs', penalty='l2'):\n",
    "    cv_results = cross_val_score(LogisticRegression(solver=solver, penalty=penalty, l1_ratio=l1), train[features], train[target].values.ravel(), cv=5, scoring=scoring_metric)\n",
    "    \n",
    "#     for i in range(len(cv_results)):\n",
    "#         print(f'Fold #{i+1}: {round(cv_results[i], 5)}')\n",
    "    score = np.mean(cv_results)\n",
    "#     print( f'Average = {score}')\n",
    "    \n",
    "    return score"
   ]
  },
  {
   "cell_type": "code",
   "execution_count": 3,
   "metadata": {},
   "outputs": [],
   "source": [
    "def train_and_save_model(train, test, features, target, nameFile, l1=None, solver='lbfgs', penalty='l2'):\n",
    "    model = LogisticRegression(solver=solver, penalty=penalty, l1_ratio=l1)\n",
    "    model.fit(X=train[features], y = train[target].values.ravel())\n",
    "    test_prediction = model.predict_proba(test[features])[:,1]\n",
    "    sample_submission = pd.read_csv('../data/raw/HW#2/sample_submission.csv')\n",
    "    sample_submission[target] = test_prediction\n",
    "    #sample_submission[target] = sample_submission[target].clip(0, 1000000000)\n",
    "    sample_submission.to_csv(f'HW#2_models/{nameFile}.csv', index = False)"
   ]
  },
  {
   "cell_type": "code",
   "execution_count": 4,
   "metadata": {},
   "outputs": [],
   "source": [
    "def normalize(sequences):\n",
    "    return (sequences - sequences.mean()) / (sequences.max() - sequences.min())"
   ]
  },
  {
   "cell_type": "code",
   "execution_count": 5,
   "metadata": {},
   "outputs": [],
   "source": [
    "train = pd.read_csv('../data/raw/HW#2/application_train.csv')\n",
    "test = pd.read_csv('../data/raw/HW#2/application_test.csv')"
   ]
  },
  {
   "cell_type": "markdown",
   "metadata": {},
   "source": [
    "### Модель 0"
   ]
  },
  {
   "cell_type": "code",
   "execution_count": 6,
   "metadata": {},
   "outputs": [],
   "source": [
    "features = ['AMT_INCOME_TOTAL', 'AMT_CREDIT', 'AMT_ANNUITY']\n",
    "target = ['TARGET']"
   ]
  },
  {
   "cell_type": "code",
   "execution_count": 7,
   "metadata": {},
   "outputs": [
    {
     "data": {
      "text/plain": [
       "AMT_INCOME_TOTAL     0\n",
       "AMT_CREDIT           0\n",
       "AMT_ANNUITY         12\n",
       "dtype: int64"
      ]
     },
     "execution_count": 7,
     "metadata": {},
     "output_type": "execute_result"
    }
   ],
   "source": [
    "train[features].isna().sum()"
   ]
  },
  {
   "cell_type": "code",
   "execution_count": 8,
   "metadata": {},
   "outputs": [],
   "source": [
    "train['AMT_ANNUITY'] = train['AMT_ANNUITY'].fillna(train['AMT_ANNUITY'].median())\n",
    "test['AMT_ANNUITY'] = test['AMT_ANNUITY'].fillna(train['AMT_ANNUITY'].median())"
   ]
  },
  {
   "cell_type": "code",
   "execution_count": 9,
   "metadata": {},
   "outputs": [
    {
     "data": {
      "text/plain": [
       "AMT_INCOME_TOTAL    25650.0\n",
       "AMT_CREDIT          45000.0\n",
       "AMT_ANNUITY          1615.5\n",
       "dtype: float64"
      ]
     },
     "execution_count": 9,
     "metadata": {},
     "output_type": "execute_result"
    }
   ],
   "source": [
    "train[features].min()"
   ]
  },
  {
   "cell_type": "code",
   "execution_count": 10,
   "metadata": {},
   "outputs": [],
   "source": [
    "train[features] /= 1000\n",
    "test[features] /= 1000"
   ]
  },
  {
   "cell_type": "code",
   "execution_count": 11,
   "metadata": {},
   "outputs": [
    {
     "data": {
      "text/plain": [
       "0.5327320455583101"
      ]
     },
     "execution_count": 11,
     "metadata": {},
     "output_type": "execute_result"
    }
   ],
   "source": [
    "cross_validation(train, features, target)"
   ]
  },
  {
   "cell_type": "code",
   "execution_count": 12,
   "metadata": {},
   "outputs": [],
   "source": [
    "train_and_save_model(train, test, features, target, 'model_0')"
   ]
  },
  {
   "cell_type": "markdown",
   "metadata": {},
   "source": [
    "### Модель 1"
   ]
  },
  {
   "cell_type": "code",
   "execution_count": 13,
   "metadata": {},
   "outputs": [],
   "source": [
    "train1 = train.copy()\n",
    "test1 = test.copy()"
   ]
  },
  {
   "cell_type": "code",
   "execution_count": 14,
   "metadata": {},
   "outputs": [],
   "source": [
    "train1[features] = normalize(train1[features])\n",
    "test1[features] = normalize(test1[features])"
   ]
  },
  {
   "cell_type": "code",
   "execution_count": 15,
   "metadata": {},
   "outputs": [
    {
     "data": {
      "text/plain": [
       "0.5301784448570589"
      ]
     },
     "execution_count": 15,
     "metadata": {},
     "output_type": "execute_result"
    }
   ],
   "source": [
    "cross_validation(train1, features, target)"
   ]
  },
  {
   "cell_type": "code",
   "execution_count": 16,
   "metadata": {},
   "outputs": [],
   "source": [
    "train_and_save_model(train1, test1, features, target, 'model_1')"
   ]
  },
  {
   "cell_type": "markdown",
   "metadata": {},
   "source": [
    "### Модель 2"
   ]
  },
  {
   "cell_type": "code",
   "execution_count": 17,
   "metadata": {},
   "outputs": [],
   "source": [
    "features += ['CODE_GENDER', 'FLAG_OWN_REALTY', 'FLAG_OWN_CAR',\n",
    "             'NAME_EDUCATION_TYPE', 'NAME_FAMILY_STATUS', 'NAME_INCOME_TYPE']"
   ]
  },
  {
   "cell_type": "code",
   "execution_count": 18,
   "metadata": {},
   "outputs": [
    {
     "data": {
      "text/html": [
       "<div>\n",
       "<style scoped>\n",
       "    .dataframe tbody tr th:only-of-type {\n",
       "        vertical-align: middle;\n",
       "    }\n",
       "\n",
       "    .dataframe tbody tr th {\n",
       "        vertical-align: top;\n",
       "    }\n",
       "\n",
       "    .dataframe thead th {\n",
       "        text-align: right;\n",
       "    }\n",
       "</style>\n",
       "<table border=\"1\" class=\"dataframe\">\n",
       "  <thead>\n",
       "    <tr style=\"text-align: right;\">\n",
       "      <th></th>\n",
       "      <th>AMT_INCOME_TOTAL</th>\n",
       "      <th>AMT_CREDIT</th>\n",
       "      <th>AMT_ANNUITY</th>\n",
       "      <th>CODE_GENDER</th>\n",
       "      <th>FLAG_OWN_REALTY</th>\n",
       "      <th>FLAG_OWN_CAR</th>\n",
       "      <th>NAME_EDUCATION_TYPE</th>\n",
       "      <th>NAME_FAMILY_STATUS</th>\n",
       "      <th>NAME_INCOME_TYPE</th>\n",
       "    </tr>\n",
       "  </thead>\n",
       "  <tbody>\n",
       "    <tr>\n",
       "      <th>0</th>\n",
       "      <td>202.5</td>\n",
       "      <td>406.5975</td>\n",
       "      <td>24.7005</td>\n",
       "      <td>M</td>\n",
       "      <td>Y</td>\n",
       "      <td>N</td>\n",
       "      <td>Secondary / secondary special</td>\n",
       "      <td>Single / not married</td>\n",
       "      <td>Working</td>\n",
       "    </tr>\n",
       "    <tr>\n",
       "      <th>1</th>\n",
       "      <td>270.0</td>\n",
       "      <td>1293.5025</td>\n",
       "      <td>35.6985</td>\n",
       "      <td>F</td>\n",
       "      <td>N</td>\n",
       "      <td>N</td>\n",
       "      <td>Higher education</td>\n",
       "      <td>Married</td>\n",
       "      <td>State servant</td>\n",
       "    </tr>\n",
       "    <tr>\n",
       "      <th>2</th>\n",
       "      <td>67.5</td>\n",
       "      <td>135.0000</td>\n",
       "      <td>6.7500</td>\n",
       "      <td>M</td>\n",
       "      <td>Y</td>\n",
       "      <td>Y</td>\n",
       "      <td>Secondary / secondary special</td>\n",
       "      <td>Single / not married</td>\n",
       "      <td>Working</td>\n",
       "    </tr>\n",
       "    <tr>\n",
       "      <th>3</th>\n",
       "      <td>135.0</td>\n",
       "      <td>312.6825</td>\n",
       "      <td>29.6865</td>\n",
       "      <td>F</td>\n",
       "      <td>Y</td>\n",
       "      <td>N</td>\n",
       "      <td>Secondary / secondary special</td>\n",
       "      <td>Civil marriage</td>\n",
       "      <td>Working</td>\n",
       "    </tr>\n",
       "    <tr>\n",
       "      <th>4</th>\n",
       "      <td>121.5</td>\n",
       "      <td>513.0000</td>\n",
       "      <td>21.8655</td>\n",
       "      <td>M</td>\n",
       "      <td>Y</td>\n",
       "      <td>N</td>\n",
       "      <td>Secondary / secondary special</td>\n",
       "      <td>Single / not married</td>\n",
       "      <td>Working</td>\n",
       "    </tr>\n",
       "    <tr>\n",
       "      <th>...</th>\n",
       "      <td>...</td>\n",
       "      <td>...</td>\n",
       "      <td>...</td>\n",
       "      <td>...</td>\n",
       "      <td>...</td>\n",
       "      <td>...</td>\n",
       "      <td>...</td>\n",
       "      <td>...</td>\n",
       "      <td>...</td>\n",
       "    </tr>\n",
       "    <tr>\n",
       "      <th>307506</th>\n",
       "      <td>157.5</td>\n",
       "      <td>254.7000</td>\n",
       "      <td>27.5580</td>\n",
       "      <td>M</td>\n",
       "      <td>N</td>\n",
       "      <td>N</td>\n",
       "      <td>Secondary / secondary special</td>\n",
       "      <td>Separated</td>\n",
       "      <td>Working</td>\n",
       "    </tr>\n",
       "    <tr>\n",
       "      <th>307507</th>\n",
       "      <td>72.0</td>\n",
       "      <td>269.5500</td>\n",
       "      <td>12.0015</td>\n",
       "      <td>F</td>\n",
       "      <td>Y</td>\n",
       "      <td>N</td>\n",
       "      <td>Secondary / secondary special</td>\n",
       "      <td>Widow</td>\n",
       "      <td>Pensioner</td>\n",
       "    </tr>\n",
       "    <tr>\n",
       "      <th>307508</th>\n",
       "      <td>153.0</td>\n",
       "      <td>677.6640</td>\n",
       "      <td>29.9790</td>\n",
       "      <td>F</td>\n",
       "      <td>Y</td>\n",
       "      <td>N</td>\n",
       "      <td>Higher education</td>\n",
       "      <td>Separated</td>\n",
       "      <td>Working</td>\n",
       "    </tr>\n",
       "    <tr>\n",
       "      <th>307509</th>\n",
       "      <td>171.0</td>\n",
       "      <td>370.1070</td>\n",
       "      <td>20.2050</td>\n",
       "      <td>F</td>\n",
       "      <td>Y</td>\n",
       "      <td>N</td>\n",
       "      <td>Secondary / secondary special</td>\n",
       "      <td>Married</td>\n",
       "      <td>Commercial associate</td>\n",
       "    </tr>\n",
       "    <tr>\n",
       "      <th>307510</th>\n",
       "      <td>157.5</td>\n",
       "      <td>675.0000</td>\n",
       "      <td>49.1175</td>\n",
       "      <td>F</td>\n",
       "      <td>N</td>\n",
       "      <td>N</td>\n",
       "      <td>Higher education</td>\n",
       "      <td>Married</td>\n",
       "      <td>Commercial associate</td>\n",
       "    </tr>\n",
       "  </tbody>\n",
       "</table>\n",
       "<p>307511 rows × 9 columns</p>\n",
       "</div>"
      ],
      "text/plain": [
       "        AMT_INCOME_TOTAL  AMT_CREDIT  AMT_ANNUITY CODE_GENDER FLAG_OWN_REALTY  \\\n",
       "0                  202.5    406.5975      24.7005           M               Y   \n",
       "1                  270.0   1293.5025      35.6985           F               N   \n",
       "2                   67.5    135.0000       6.7500           M               Y   \n",
       "3                  135.0    312.6825      29.6865           F               Y   \n",
       "4                  121.5    513.0000      21.8655           M               Y   \n",
       "...                  ...         ...          ...         ...             ...   \n",
       "307506             157.5    254.7000      27.5580           M               N   \n",
       "307507              72.0    269.5500      12.0015           F               Y   \n",
       "307508             153.0    677.6640      29.9790           F               Y   \n",
       "307509             171.0    370.1070      20.2050           F               Y   \n",
       "307510             157.5    675.0000      49.1175           F               N   \n",
       "\n",
       "       FLAG_OWN_CAR            NAME_EDUCATION_TYPE    NAME_FAMILY_STATUS  \\\n",
       "0                 N  Secondary / secondary special  Single / not married   \n",
       "1                 N               Higher education               Married   \n",
       "2                 Y  Secondary / secondary special  Single / not married   \n",
       "3                 N  Secondary / secondary special        Civil marriage   \n",
       "4                 N  Secondary / secondary special  Single / not married   \n",
       "...             ...                            ...                   ...   \n",
       "307506            N  Secondary / secondary special             Separated   \n",
       "307507            N  Secondary / secondary special                 Widow   \n",
       "307508            N               Higher education             Separated   \n",
       "307509            N  Secondary / secondary special               Married   \n",
       "307510            N               Higher education               Married   \n",
       "\n",
       "            NAME_INCOME_TYPE  \n",
       "0                    Working  \n",
       "1              State servant  \n",
       "2                    Working  \n",
       "3                    Working  \n",
       "4                    Working  \n",
       "...                      ...  \n",
       "307506               Working  \n",
       "307507             Pensioner  \n",
       "307508               Working  \n",
       "307509  Commercial associate  \n",
       "307510  Commercial associate  \n",
       "\n",
       "[307511 rows x 9 columns]"
      ]
     },
     "execution_count": 18,
     "metadata": {},
     "output_type": "execute_result"
    }
   ],
   "source": [
    "train[features]"
   ]
  },
  {
   "cell_type": "code",
   "execution_count": 19,
   "metadata": {},
   "outputs": [
    {
     "data": {
      "text/plain": [
       "F      202448\n",
       "M      105059\n",
       "XNA         4\n",
       "Name: CODE_GENDER, dtype: int64"
      ]
     },
     "execution_count": 19,
     "metadata": {},
     "output_type": "execute_result"
    }
   ],
   "source": [
    "train['CODE_GENDER'].value_counts()"
   ]
  },
  {
   "cell_type": "code",
   "execution_count": 20,
   "metadata": {},
   "outputs": [],
   "source": [
    "train['CODE_GENDER'] = train['CODE_GENDER'].replace( { 'M':1,'F':0, 'XNA': 0  })\n",
    "test['CODE_GENDER'] = test['CODE_GENDER'].replace( { 'M':1,'F':0, 'XNA': 0  })"
   ]
  },
  {
   "cell_type": "code",
   "execution_count": 21,
   "metadata": {},
   "outputs": [],
   "source": [
    "train['FLAG_OWN_REALTY'] = train['FLAG_OWN_REALTY'].replace( { 'Y':1,'N':0  })\n",
    "test['FLAG_OWN_REALTY'] = test['FLAG_OWN_REALTY'].replace( { 'Y':1,'N':0  })"
   ]
  },
  {
   "cell_type": "code",
   "execution_count": 22,
   "metadata": {},
   "outputs": [],
   "source": [
    "train['FLAG_OWN_CAR'] = train['FLAG_OWN_CAR'].replace( { 'Y':1,'N':0  })\n",
    "test['FLAG_OWN_CAR'] = test['FLAG_OWN_CAR'].replace( { 'Y':1,'N':0  })"
   ]
  },
  {
   "cell_type": "code",
   "execution_count": 23,
   "metadata": {},
   "outputs": [],
   "source": [
    "dict_education = {'Secondary / secondary special': 1, 'Higher education': 3,\n",
    "       'Incomplete higher': 2, 'Lower secondary': 0, 'Academic degree': 4}\n",
    "train['NAME_EDUCATION_TYPE'] = train['NAME_EDUCATION_TYPE'].replace(dict_education)\n",
    "test['NAME_EDUCATION_TYPE'] = test['NAME_EDUCATION_TYPE'].replace(dict_education)"
   ]
  },
  {
   "cell_type": "code",
   "execution_count": 24,
   "metadata": {},
   "outputs": [],
   "source": [
    "dict_family_stat = {'Single / not married': 0, 'Married': 2, 'Civil marriage': 1, 'Widow': 4,\n",
    "       'Separated': 3, 'Unknown': 0 }\n",
    "train['NAME_FAMILY_STATUS'] = train['NAME_FAMILY_STATUS'].replace(dict_family_stat)\n",
    "test['NAME_FAMILY_STATUS'] = test['NAME_FAMILY_STATUS'].replace(dict_family_stat)"
   ]
  },
  {
   "cell_type": "code",
   "execution_count": 25,
   "metadata": {},
   "outputs": [],
   "source": [
    "dict_income_type = {'Working': 3, 'State servant': 5, 'Commercial associate': 6, 'Pensioner': 7,\n",
    "       'Unemployed': 0, 'Student': 1, 'Businessman': 4, 'Maternity leave': 2}\n",
    "train['NAME_INCOME_TYPE'] = train['NAME_INCOME_TYPE'].replace(dict_income_type)\n",
    "test['NAME_INCOME_TYPE'] = test['NAME_INCOME_TYPE'].replace(dict_income_type)"
   ]
  },
  {
   "cell_type": "code",
   "execution_count": 26,
   "metadata": {},
   "outputs": [],
   "source": [
    "train[features] = normalize(train[features])\n",
    "test[features] = normalize(test[features])"
   ]
  },
  {
   "cell_type": "code",
   "execution_count": 27,
   "metadata": {},
   "outputs": [
    {
     "data": {
      "text/plain": [
       "0.6128664921664913"
      ]
     },
     "execution_count": 27,
     "metadata": {},
     "output_type": "execute_result"
    }
   ],
   "source": [
    "cross_validation(train, features, target)"
   ]
  },
  {
   "cell_type": "code",
   "execution_count": 28,
   "metadata": {},
   "outputs": [],
   "source": [
    "train_and_save_model(train, test, features, target, 'model_2')"
   ]
  },
  {
   "cell_type": "markdown",
   "metadata": {},
   "source": [
    "### Модель 3"
   ]
  },
  {
   "cell_type": "code",
   "execution_count": 29,
   "metadata": {},
   "outputs": [],
   "source": [
    "def proc_categories(train, test, column_name):\n",
    "    K = train.groupby([column_name]).size()\n",
    "    mean_y = train.groupby([column_name])[column_name].mean()\n",
    "    global_mean_y = train[column_name].mean()\n",
    "    train[column_name] = (mean_y * K + global_mean_y * 10) / (K + 10)\n",
    "    test[column_name] = (mean_y * K + global_mean_y * 10) / (K + 10)\n",
    "    \n",
    "    return train, test"
   ]
  },
  {
   "cell_type": "code",
   "execution_count": 30,
   "metadata": {},
   "outputs": [],
   "source": [
    "# train, test = proc_categories(train, test, 'NAME_EDUCATION_TYPE')\n",
    "# train, test = proc_categories(train, test, 'NAME_INCOME_TYPE')"
   ]
  },
  {
   "cell_type": "code",
   "execution_count": 31,
   "metadata": {},
   "outputs": [],
   "source": [
    "# cross_validation(train, features, target)"
   ]
  },
  {
   "cell_type": "code",
   "execution_count": 32,
   "metadata": {},
   "outputs": [],
   "source": [
    "# train_and_save_model(train, test, features, target, 'model_3')"
   ]
  },
  {
   "cell_type": "markdown",
   "metadata": {},
   "source": [
    "### Модель 4"
   ]
  },
  {
   "cell_type": "code",
   "execution_count": 33,
   "metadata": {},
   "outputs": [],
   "source": [
    "features += ['DAYS_REGISTRATION', 'DAYS_ID_PUBLISH', 'DAYS_BIRTH']"
   ]
  },
  {
   "cell_type": "code",
   "execution_count": 34,
   "metadata": {},
   "outputs": [],
   "source": [
    "train['DAYS_REGISTRATION'] = train['DAYS_REGISTRATION'] / 365\n",
    "train['DAYS_ID_PUBLISH'] = train['DAYS_ID_PUBLISH'] / 365\n",
    "train['DAYS_BIRTH'] = train['DAYS_REGISTRATION'] / 365"
   ]
  },
  {
   "cell_type": "code",
   "execution_count": 35,
   "metadata": {},
   "outputs": [],
   "source": [
    "train[features] = normalize(train[features])\n",
    "test[features] = normalize(test[features])"
   ]
  },
  {
   "cell_type": "code",
   "execution_count": 36,
   "metadata": {},
   "outputs": [
    {
     "data": {
      "text/plain": [
       "0.6271887889701484"
      ]
     },
     "execution_count": 36,
     "metadata": {},
     "output_type": "execute_result"
    }
   ],
   "source": [
    "cross_validation(train, features, target)"
   ]
  },
  {
   "cell_type": "code",
   "execution_count": 37,
   "metadata": {},
   "outputs": [],
   "source": [
    "train_and_save_model(train, test, features, target, 'model_4')"
   ]
  },
  {
   "cell_type": "markdown",
   "metadata": {},
   "source": [
    "### Модель 5"
   ]
  },
  {
   "cell_type": "code",
   "execution_count": 38,
   "metadata": {},
   "outputs": [
    {
     "data": {
      "text/plain": [
       "['AMT_INCOME_TOTAL',\n",
       " 'AMT_CREDIT',\n",
       " 'AMT_ANNUITY',\n",
       " 'CODE_GENDER',\n",
       " 'FLAG_OWN_REALTY',\n",
       " 'FLAG_OWN_CAR',\n",
       " 'NAME_EDUCATION_TYPE',\n",
       " 'NAME_FAMILY_STATUS',\n",
       " 'NAME_INCOME_TYPE',\n",
       " 'DAYS_REGISTRATION',\n",
       " 'DAYS_ID_PUBLISH',\n",
       " 'DAYS_BIRTH']"
      ]
     },
     "execution_count": 38,
     "metadata": {},
     "output_type": "execute_result"
    }
   ],
   "source": [
    "features"
   ]
  },
  {
   "cell_type": "code",
   "execution_count": 39,
   "metadata": {},
   "outputs": [],
   "source": [
    "train[features] = normalize(train[features])\n",
    "test[features] = normalize(test[features])"
   ]
  },
  {
   "cell_type": "code",
   "execution_count": 40,
   "metadata": {},
   "outputs": [
    {
     "data": {
      "text/html": [
       "<div>\n",
       "<style scoped>\n",
       "    .dataframe tbody tr th:only-of-type {\n",
       "        vertical-align: middle;\n",
       "    }\n",
       "\n",
       "    .dataframe tbody tr th {\n",
       "        vertical-align: top;\n",
       "    }\n",
       "\n",
       "    .dataframe thead th {\n",
       "        text-align: right;\n",
       "    }\n",
       "</style>\n",
       "<table border=\"1\" class=\"dataframe\">\n",
       "  <thead>\n",
       "    <tr style=\"text-align: right;\">\n",
       "      <th></th>\n",
       "      <th>AMT_INCOME_TOTAL</th>\n",
       "      <th>AMT_CREDIT</th>\n",
       "      <th>AMT_ANNUITY</th>\n",
       "      <th>CODE_GENDER</th>\n",
       "      <th>FLAG_OWN_REALTY</th>\n",
       "      <th>FLAG_OWN_CAR</th>\n",
       "      <th>NAME_EDUCATION_TYPE</th>\n",
       "      <th>NAME_FAMILY_STATUS</th>\n",
       "      <th>NAME_INCOME_TYPE</th>\n",
       "      <th>DAYS_REGISTRATION</th>\n",
       "      <th>DAYS_ID_PUBLISH</th>\n",
       "      <th>DAYS_BIRTH</th>\n",
       "    </tr>\n",
       "  </thead>\n",
       "  <tbody>\n",
       "    <tr>\n",
       "      <th>0</th>\n",
       "      <td>0.000288</td>\n",
       "      <td>-0.048047</td>\n",
       "      <td>-0.009391</td>\n",
       "      <td>0.658357</td>\n",
       "      <td>0.306327</td>\n",
       "      <td>-0.340108</td>\n",
       "      <td>-0.127377</td>\n",
       "      <td>-0.444131</td>\n",
       "      <td>-0.222806</td>\n",
       "      <td>0.054236</td>\n",
       "      <td>0.121468</td>\n",
       "      <td>0.054236</td>\n",
       "    </tr>\n",
       "    <tr>\n",
       "      <th>1</th>\n",
       "      <td>0.000865</td>\n",
       "      <td>0.173402</td>\n",
       "      <td>0.033501</td>\n",
       "      <td>-0.341643</td>\n",
       "      <td>-0.693673</td>\n",
       "      <td>-0.340108</td>\n",
       "      <td>0.372623</td>\n",
       "      <td>0.055869</td>\n",
       "      <td>0.062908</td>\n",
       "      <td>0.154026</td>\n",
       "      <td>0.375601</td>\n",
       "      <td>0.154026</td>\n",
       "    </tr>\n",
       "    <tr>\n",
       "      <th>2</th>\n",
       "      <td>-0.000866</td>\n",
       "      <td>-0.115862</td>\n",
       "      <td>-0.079398</td>\n",
       "      <td>0.658357</td>\n",
       "      <td>0.306327</td>\n",
       "      <td>0.659892</td>\n",
       "      <td>-0.127377</td>\n",
       "      <td>-0.444131</td>\n",
       "      <td>-0.222806</td>\n",
       "      <td>0.029431</td>\n",
       "      <td>0.064360</td>\n",
       "      <td>0.029431</td>\n",
       "    </tr>\n",
       "    <tr>\n",
       "      <th>3</th>\n",
       "      <td>-0.000289</td>\n",
       "      <td>-0.071497</td>\n",
       "      <td>0.010054</td>\n",
       "      <td>-0.341643</td>\n",
       "      <td>0.306327</td>\n",
       "      <td>-0.340108</td>\n",
       "      <td>-0.127377</td>\n",
       "      <td>-0.194131</td>\n",
       "      <td>-0.222806</td>\n",
       "      <td>-0.196453</td>\n",
       "      <td>0.077421</td>\n",
       "      <td>-0.196453</td>\n",
       "    </tr>\n",
       "    <tr>\n",
       "      <th>4</th>\n",
       "      <td>-0.000404</td>\n",
       "      <td>-0.021480</td>\n",
       "      <td>-0.020448</td>\n",
       "      <td>0.658357</td>\n",
       "      <td>0.306327</td>\n",
       "      <td>-0.340108</td>\n",
       "      <td>-0.127377</td>\n",
       "      <td>-0.444131</td>\n",
       "      <td>-0.222806</td>\n",
       "      <td>0.027364</td>\n",
       "      <td>-0.064443</td>\n",
       "      <td>0.027364</td>\n",
       "    </tr>\n",
       "    <tr>\n",
       "      <th>...</th>\n",
       "      <td>...</td>\n",
       "      <td>...</td>\n",
       "      <td>...</td>\n",
       "      <td>...</td>\n",
       "      <td>...</td>\n",
       "      <td>...</td>\n",
       "      <td>...</td>\n",
       "      <td>...</td>\n",
       "      <td>...</td>\n",
       "      <td>...</td>\n",
       "      <td>...</td>\n",
       "      <td>...</td>\n",
       "    </tr>\n",
       "    <tr>\n",
       "      <th>307506</th>\n",
       "      <td>-0.000097</td>\n",
       "      <td>-0.085974</td>\n",
       "      <td>0.001753</td>\n",
       "      <td>0.658357</td>\n",
       "      <td>-0.693673</td>\n",
       "      <td>-0.340108</td>\n",
       "      <td>-0.127377</td>\n",
       "      <td>0.305869</td>\n",
       "      <td>-0.222806</td>\n",
       "      <td>-0.140640</td>\n",
       "      <td>0.140642</td>\n",
       "      <td>-0.140640</td>\n",
       "    </tr>\n",
       "    <tr>\n",
       "      <th>307507</th>\n",
       "      <td>-0.000828</td>\n",
       "      <td>-0.082266</td>\n",
       "      <td>-0.058917</td>\n",
       "      <td>-0.341643</td>\n",
       "      <td>0.306327</td>\n",
       "      <td>-0.340108</td>\n",
       "      <td>-0.127377</td>\n",
       "      <td>0.555869</td>\n",
       "      <td>0.348622</td>\n",
       "      <td>0.024243</td>\n",
       "      <td>-0.152258</td>\n",
       "      <td>0.024243</td>\n",
       "    </tr>\n",
       "    <tr>\n",
       "      <th>307508</th>\n",
       "      <td>-0.000135</td>\n",
       "      <td>0.019635</td>\n",
       "      <td>0.011195</td>\n",
       "      <td>-0.341643</td>\n",
       "      <td>0.306327</td>\n",
       "      <td>-0.340108</td>\n",
       "      <td>0.372623</td>\n",
       "      <td>0.305869</td>\n",
       "      <td>-0.222806</td>\n",
       "      <td>-0.070966</td>\n",
       "      <td>-0.299541</td>\n",
       "      <td>-0.070966</td>\n",
       "    </tr>\n",
       "    <tr>\n",
       "      <th>307509</th>\n",
       "      <td>0.000019</td>\n",
       "      <td>-0.057158</td>\n",
       "      <td>-0.026924</td>\n",
       "      <td>-0.341643</td>\n",
       "      <td>0.306327</td>\n",
       "      <td>-0.340108</td>\n",
       "      <td>-0.127377</td>\n",
       "      <td>0.055869</td>\n",
       "      <td>0.205765</td>\n",
       "      <td>0.098254</td>\n",
       "      <td>0.286675</td>\n",
       "      <td>0.098254</td>\n",
       "    </tr>\n",
       "    <tr>\n",
       "      <th>307510</th>\n",
       "      <td>-0.000097</td>\n",
       "      <td>0.018970</td>\n",
       "      <td>0.085835</td>\n",
       "      <td>-0.341643</td>\n",
       "      <td>-0.693673</td>\n",
       "      <td>-0.340108</td>\n",
       "      <td>0.372623</td>\n",
       "      <td>0.055869</td>\n",
       "      <td>0.205765</td>\n",
       "      <td>-0.005751</td>\n",
       "      <td>0.359067</td>\n",
       "      <td>-0.005751</td>\n",
       "    </tr>\n",
       "  </tbody>\n",
       "</table>\n",
       "<p>307511 rows × 12 columns</p>\n",
       "</div>"
      ],
      "text/plain": [
       "        AMT_INCOME_TOTAL  AMT_CREDIT  AMT_ANNUITY  CODE_GENDER  \\\n",
       "0               0.000288   -0.048047    -0.009391     0.658357   \n",
       "1               0.000865    0.173402     0.033501    -0.341643   \n",
       "2              -0.000866   -0.115862    -0.079398     0.658357   \n",
       "3              -0.000289   -0.071497     0.010054    -0.341643   \n",
       "4              -0.000404   -0.021480    -0.020448     0.658357   \n",
       "...                  ...         ...          ...          ...   \n",
       "307506         -0.000097   -0.085974     0.001753     0.658357   \n",
       "307507         -0.000828   -0.082266    -0.058917    -0.341643   \n",
       "307508         -0.000135    0.019635     0.011195    -0.341643   \n",
       "307509          0.000019   -0.057158    -0.026924    -0.341643   \n",
       "307510         -0.000097    0.018970     0.085835    -0.341643   \n",
       "\n",
       "        FLAG_OWN_REALTY  FLAG_OWN_CAR  NAME_EDUCATION_TYPE  \\\n",
       "0              0.306327     -0.340108            -0.127377   \n",
       "1             -0.693673     -0.340108             0.372623   \n",
       "2              0.306327      0.659892            -0.127377   \n",
       "3              0.306327     -0.340108            -0.127377   \n",
       "4              0.306327     -0.340108            -0.127377   \n",
       "...                 ...           ...                  ...   \n",
       "307506        -0.693673     -0.340108            -0.127377   \n",
       "307507         0.306327     -0.340108            -0.127377   \n",
       "307508         0.306327     -0.340108             0.372623   \n",
       "307509         0.306327     -0.340108            -0.127377   \n",
       "307510        -0.693673     -0.340108             0.372623   \n",
       "\n",
       "        NAME_FAMILY_STATUS  NAME_INCOME_TYPE  DAYS_REGISTRATION  \\\n",
       "0                -0.444131         -0.222806           0.054236   \n",
       "1                 0.055869          0.062908           0.154026   \n",
       "2                -0.444131         -0.222806           0.029431   \n",
       "3                -0.194131         -0.222806          -0.196453   \n",
       "4                -0.444131         -0.222806           0.027364   \n",
       "...                    ...               ...                ...   \n",
       "307506            0.305869         -0.222806          -0.140640   \n",
       "307507            0.555869          0.348622           0.024243   \n",
       "307508            0.305869         -0.222806          -0.070966   \n",
       "307509            0.055869          0.205765           0.098254   \n",
       "307510            0.055869          0.205765          -0.005751   \n",
       "\n",
       "        DAYS_ID_PUBLISH  DAYS_BIRTH  \n",
       "0              0.121468    0.054236  \n",
       "1              0.375601    0.154026  \n",
       "2              0.064360    0.029431  \n",
       "3              0.077421   -0.196453  \n",
       "4             -0.064443    0.027364  \n",
       "...                 ...         ...  \n",
       "307506         0.140642   -0.140640  \n",
       "307507        -0.152258    0.024243  \n",
       "307508        -0.299541   -0.070966  \n",
       "307509         0.286675    0.098254  \n",
       "307510         0.359067   -0.005751  \n",
       "\n",
       "[307511 rows x 12 columns]"
      ]
     },
     "execution_count": 40,
     "metadata": {},
     "output_type": "execute_result"
    }
   ],
   "source": [
    "train[features]"
   ]
  },
  {
   "cell_type": "code",
   "execution_count": 44,
   "metadata": {},
   "outputs": [
    {
     "name": "stdout",
     "output_type": "stream",
     "text": [
      "Score = 0.6271704889630633, l1 = 0.0\n",
      "Score = 0.6271722331178166, l1 = 0.1\n",
      "Score = 0.6271744453749638, l1 = 0.2\n",
      "Score = 0.6271773701107577, l1 = 0.30000000000000004\n",
      "Score = 0.6271794754728106, l1 = 0.4\n",
      "Score = 0.6271830300180964, l1 = 0.5\n",
      "Score = 0.627188121366759, l1 = 0.6000000000000001\n",
      "Score = 0.6271916431338722, l1 = 0.7000000000000001\n",
      "Score = 0.6271912519729743, l1 = 0.8\n",
      "Score = 0.627191360975479, l1 = 0.9\n",
      "Max Score = 0.6271916431338722, l1 = 0.7000000000000001\n"
     ]
    }
   ],
   "source": [
    "l1_best = 0.1\n",
    "max_score = 0.0\n",
    "for i in range (10):\n",
    "    res = cross_validation(train, features, target, l1=0.1 * i, solver='saga', penalty='elasticnet')\n",
    "    print(f'Score = {res}, l1 = {0.1 * i}')\n",
    "    if (res > max_score):\n",
    "        max_score = res\n",
    "        l1_best = 0.1 * i\n",
    "        \n",
    "print(f'Max Score = {max_score}, l1 = {l1_best}')"
   ]
  },
  {
   "cell_type": "code",
   "execution_count": 43,
   "metadata": {},
   "outputs": [],
   "source": [
    "train_and_save_model(train, test, features, target, 'model_5', l1=l1_best, solver='saga', penalty='elasticnet')"
   ]
  },
  {
   "cell_type": "markdown",
   "metadata": {},
   "source": [
    "### Итоги\n",
    "Модели:\n",
    "\n",
    "0. Score(private) - 0.53786, Score(public) - 0.55338, cv - 0.53273\n",
    "1. Score(private) - 0.51821, Score(public) - 0.53444, cv - 0.53017\n",
    "2. Score(private) - 0.61634, Score(public) - 0.61430, cv - 0.61286\n",
    "3. -\n",
    "4. Score(private) - 0.63189, Score(public) - 0.63142, cv - 0.62718\n",
    "5. Score(private) - 0.63189, Score(public) - 0.63143, cv - 0.62719"
   ]
  },
  {
   "cell_type": "code",
   "execution_count": 47,
   "metadata": {
    "scrolled": true
   },
   "outputs": [
    {
     "name": "stderr",
     "output_type": "stream",
     "text": [
      "No handles with labels found to put in legend.\n"
     ]
    },
    {
     "data": {
      "image/png": "[encoded data removed]",
      "text/plain": [
       "<Figure size 432x288 with 1 Axes>"
      ]
     },
     "metadata": {},
     "output_type": "display_data"
    }
   ],
   "source": [
    "df = pd.DataFrame()\n",
    "df['score_cross_val'] = [0.53273, 0.53017, 0.61286, 0.62718, 0.62719]\n",
    "df['score_kaggle'] = [0.53786, 0.51821, 0.61634, 0.63189, 0.63189]\n",
    "df['model'] = ['model0', 'model1', 'model2', 'model4', 'model5']\n",
    "\n",
    "fig, ax = plt.subplots()\n",
    "ax.scatter(df['score_cross_val'], df['score_kaggle'])\n",
    "\n",
    "for i, txt in enumerate(df['model']):\n",
    "    ax.annotate(txt, (df['score_cross_val'][i], df['score_kaggle'][i]))\n",
    "\n",
    "# plt.plot(df['score_cross_val'], df['score_kaggle'])\n",
    "plt.xlabel('score_cross')\n",
    "plt.ylabel('score_kaggle')\n",
    "plt.legend()\n",
    "plt.show()"
   ]
  },
  {
   "cell_type": "markdown",
   "metadata": {},
   "source": [
    "### Вывод\n",
    "Самой лучшей моделью оказалась модель №5 с нормированными параметрами. Cross-validation была правильно настроена, так как показывает схожие результаты с kaggle. С помощью регуляризации и изменения гиперпараметров незначительно улучшился score на public данных kaggle. "
   ]
  }
 ],
 "metadata": {
  "kernelspec": {
   "display_name": "Python 3 (ipykernel)",
   "language": "python",
   "name": "python3"
  },
  "language_info": {
   "codemirror_mode": {
    "name": "ipython",
    "version": 3
   },
   "file_extension": ".py",
   "mimetype": "text/x-python",
   "name": "python",
   "nbconvert_exporter": "python",
   "pygments_lexer": "ipython3",
   "version": "3.7.0"
  }
 },
 "nbformat": 4,
 "nbformat_minor": 1
}
